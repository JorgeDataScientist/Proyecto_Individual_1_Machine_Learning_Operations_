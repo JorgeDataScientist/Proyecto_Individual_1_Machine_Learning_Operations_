{
 "cells": [
  {
   "attachments": {},
   "cell_type": "markdown",
   "metadata": {},
   "source": [
    "# Proceso de Transformacion del DataSets Original\n",
    "\n",
    "### Aca se pretende crear nuevos archivos *CSV* para realizar analisis exploratorio y la limpieza de los datos de manera mas organizada y precisa <br>\n",
    "Se crearan 6 archivos en total, los cuales son los siguiente:<br>\n",
    "1. Archivo movies.csv: \"id\", \"title\", \"original_title\", \"overview\", \"popularity\", \"release_date\", \"vote_average\", \"vote_count\", \"adult\", \"imdb_id\", \"poster_path\", \"status\", \"video\"<br>\n",
    "2. Archivo movie_details.csv: \"id\", \"original_language\", \"runtime\", \"budget\", \"revenue\", \"homepage\", \"tagline\"<br>\n",
    "3. Archivo production.csv: \"id\", \"production_companies\", \"production_countries\"<br>\n",
    "4. Archivo movie_collections.csv: \"id\", \"belongs_to_collection\"<br>\n",
    "5. Archivo movie_genres.csv: \"id\", \"genres\"<br>\n",
    "6. Archivo spoken_languages.csv: \"id\", \"spoken_languages\"<br>\n"
   ]
  },
  {
   "cell_type": "code",
   "execution_count": 1,
   "metadata": {},
   "outputs": [],
   "source": [
    "# Importar librerías\n",
    "import pandas as pd"
   ]
  },
  {
   "cell_type": "code",
   "execution_count": 2,
   "metadata": {},
   "outputs": [
    {
     "name": "stderr",
     "output_type": "stream",
     "text": [
      "C:\\Users\\JORGE LUIS\\AppData\\Local\\Temp\\ipykernel_6640\\4292023659.py:2: DtypeWarning: Columns (10) have mixed types. Specify dtype option on import or set low_memory=False.\n",
      "  df = pd.read_csv(\"../Datasets_original/movies_dataset.csv\")\n"
     ]
    }
   ],
   "source": [
    "# Lee el archivo CSV y lo almacena en un DataFrame de Pandas\n",
    "df = pd.read_csv(\"../Datasets_original/movies_dataset.csv\")"
   ]
  },
  {
   "cell_type": "code",
   "execution_count": 3,
   "metadata": {},
   "outputs": [
    {
     "data": {
      "text/plain": [
       "(45466, 24)"
      ]
     },
     "execution_count": 3,
     "metadata": {},
     "output_type": "execute_result"
    }
   ],
   "source": [
    "# Dimenciones del dataSet\n",
    "df.shape"
   ]
  },
  {
   "cell_type": "code",
   "execution_count": 4,
   "metadata": {},
   "outputs": [
    {
     "data": {
      "text/html": [
       "<div>\n",
       "<style scoped>\n",
       "    .dataframe tbody tr th:only-of-type {\n",
       "        vertical-align: middle;\n",
       "    }\n",
       "\n",
       "    .dataframe tbody tr th {\n",
       "        vertical-align: top;\n",
       "    }\n",
       "\n",
       "    .dataframe thead th {\n",
       "        text-align: right;\n",
       "    }\n",
       "</style>\n",
       "<table border=\"1\" class=\"dataframe\">\n",
       "  <thead>\n",
       "    <tr style=\"text-align: right;\">\n",
       "      <th></th>\n",
       "      <th>adult</th>\n",
       "      <th>belongs_to_collection</th>\n",
       "      <th>budget</th>\n",
       "      <th>genres</th>\n",
       "      <th>homepage</th>\n",
       "      <th>id</th>\n",
       "      <th>imdb_id</th>\n",
       "      <th>original_language</th>\n",
       "      <th>original_title</th>\n",
       "      <th>overview</th>\n",
       "      <th>...</th>\n",
       "      <th>release_date</th>\n",
       "      <th>revenue</th>\n",
       "      <th>runtime</th>\n",
       "      <th>spoken_languages</th>\n",
       "      <th>status</th>\n",
       "      <th>tagline</th>\n",
       "      <th>title</th>\n",
       "      <th>video</th>\n",
       "      <th>vote_average</th>\n",
       "      <th>vote_count</th>\n",
       "    </tr>\n",
       "  </thead>\n",
       "  <tbody>\n",
       "    <tr>\n",
       "      <th>0</th>\n",
       "      <td>False</td>\n",
       "      <td>{'id': 10194, 'name': 'Toy Story Collection', ...</td>\n",
       "      <td>30000000</td>\n",
       "      <td>[{'id': 16, 'name': 'Animation'}, {'id': 35, '...</td>\n",
       "      <td>http://toystory.disney.com/toy-story</td>\n",
       "      <td>862</td>\n",
       "      <td>tt0114709</td>\n",
       "      <td>en</td>\n",
       "      <td>Toy Story</td>\n",
       "      <td>Led by Woody, Andy's toys live happily in his ...</td>\n",
       "      <td>...</td>\n",
       "      <td>1995-10-30</td>\n",
       "      <td>373554033.0</td>\n",
       "      <td>81.0</td>\n",
       "      <td>[{'iso_639_1': 'en', 'name': 'English'}]</td>\n",
       "      <td>Released</td>\n",
       "      <td>NaN</td>\n",
       "      <td>Toy Story</td>\n",
       "      <td>False</td>\n",
       "      <td>7.7</td>\n",
       "      <td>5415.0</td>\n",
       "    </tr>\n",
       "  </tbody>\n",
       "</table>\n",
       "<p>1 rows × 24 columns</p>\n",
       "</div>"
      ],
      "text/plain": [
       "   adult                              belongs_to_collection    budget  \\\n",
       "0  False  {'id': 10194, 'name': 'Toy Story Collection', ...  30000000   \n",
       "\n",
       "                                              genres  \\\n",
       "0  [{'id': 16, 'name': 'Animation'}, {'id': 35, '...   \n",
       "\n",
       "                               homepage   id    imdb_id original_language  \\\n",
       "0  http://toystory.disney.com/toy-story  862  tt0114709                en   \n",
       "\n",
       "  original_title                                           overview  ...  \\\n",
       "0      Toy Story  Led by Woody, Andy's toys live happily in his ...  ...   \n",
       "\n",
       "  release_date      revenue runtime                          spoken_languages  \\\n",
       "0   1995-10-30  373554033.0    81.0  [{'iso_639_1': 'en', 'name': 'English'}]   \n",
       "\n",
       "     status  tagline      title  video vote_average vote_count  \n",
       "0  Released      NaN  Toy Story  False          7.7     5415.0  \n",
       "\n",
       "[1 rows x 24 columns]"
      ]
     },
     "execution_count": 4,
     "metadata": {},
     "output_type": "execute_result"
    }
   ],
   "source": [
    "# Imprime los primeros 5 registros del DataFrame\n",
    "df.head(1)"
   ]
  },
  {
   "attachments": {},
   "cell_type": "markdown",
   "metadata": {},
   "source": [
    "### Listar las Columnas del DataSets Original"
   ]
  },
  {
   "cell_type": "code",
   "execution_count": 5,
   "metadata": {},
   "outputs": [
    {
     "name": "stdout",
     "output_type": "stream",
     "text": [
      "Index(['adult', 'belongs_to_collection', 'budget', 'genres', 'homepage', 'id',\n",
      "       'imdb_id', 'original_language', 'original_title', 'overview',\n",
      "       'popularity', 'poster_path', 'production_companies',\n",
      "       'production_countries', 'release_date', 'revenue', 'runtime',\n",
      "       'spoken_languages', 'status', 'tagline', 'title', 'video',\n",
      "       'vote_average', 'vote_count'],\n",
      "      dtype='object')\n"
     ]
    }
   ],
   "source": [
    "print(df.columns)\n"
   ]
  },
  {
   "cell_type": "code",
   "execution_count": 6,
   "metadata": {},
   "outputs": [
    {
     "data": {
      "text/plain": [
       "['adult',\n",
       " 'belongs_to_collection',\n",
       " 'budget',\n",
       " 'genres',\n",
       " 'homepage',\n",
       " 'id',\n",
       " 'imdb_id',\n",
       " 'original_language',\n",
       " 'original_title',\n",
       " 'overview',\n",
       " 'popularity',\n",
       " 'poster_path',\n",
       " 'production_companies',\n",
       " 'production_countries',\n",
       " 'release_date',\n",
       " 'revenue',\n",
       " 'runtime',\n",
       " 'spoken_languages',\n",
       " 'status',\n",
       " 'tagline',\n",
       " 'title',\n",
       " 'video',\n",
       " 'vote_average',\n",
       " 'vote_count']"
      ]
     },
     "execution_count": 6,
     "metadata": {},
     "output_type": "execute_result"
    }
   ],
   "source": [
    "columnas_disponibles = df.columns.tolist()\n",
    "columnas_disponibles\n"
   ]
  },
  {
   "attachments": {},
   "cell_type": "markdown",
   "metadata": {},
   "source": [
    "## *CREAR NUEVOS ARCHIVOS CON EL DATASETS ORIGINAL*"
   ]
  },
  {
   "attachments": {},
   "cell_type": "markdown",
   "metadata": {},
   "source": [
    "Crear archivo \"movies.csv\"\n",
    "\n",
    "*Columnas:*<br>\n",
    "\"id\", \"title\", \"original_title\", \"overview\", \"popularity\", \"release_date\", \"vote_average\", \"vote_count\", \"adult\", \"imdb_id\", \"poster_path\", \"status\", \"video\""
   ]
  },
  {
   "cell_type": "code",
   "execution_count": null,
   "metadata": {},
   "outputs": [],
   "source": [
    "# # Crear un nuevo DataFrame con las columnas deseadas\n",
    "# movies_df = df[[\"id\", \"title\", \"original_title\", \"overview\", \"popularity\", \"release_date\", \"vote_average\", \"vote_count\", \"adult\", \"imdb_id\", \"poster_path\", \"status\", \"video\"]]\n",
    "\n",
    "# # Guardar el DataFrame en un archivo CSV\n",
    "# movies_df.to_csv(\"movies.csv\", index=False)"
   ]
  },
  {
   "attachments": {},
   "cell_type": "markdown",
   "metadata": {},
   "source": [
    "Crear archivo \"movie_details.csv\"\n",
    "\n",
    "*Columnas:*<br>\n",
    "\"id\", \"original_language\", \"runtime\", \"budget\", \"revenue\", \"homepage\", \"tagline\""
   ]
  },
  {
   "cell_type": "code",
   "execution_count": null,
   "metadata": {},
   "outputs": [],
   "source": [
    "# # Crear un nuevo DataFrame con las columnas deseadas\n",
    "# movie_details_df = df[[\"id\", \"original_language\", \"runtime\", \"budget\", \"revenue\", \"homepage\", \"tagline\"]]\n",
    "\n",
    "# # Guardar el DataFrame en un archivo CSV\n",
    "# movie_details_df.to_csv(\"movie_details.csv\", index=False)"
   ]
  },
  {
   "attachments": {},
   "cell_type": "markdown",
   "metadata": {},
   "source": [
    "Crear archivo \"production.csv\"\n",
    "\n",
    "*Columnas:*<br>\n",
    "\"id\", \"production_companies\", \"production_countries\""
   ]
  },
  {
   "cell_type": "code",
   "execution_count": null,
   "metadata": {},
   "outputs": [],
   "source": [
    "# # Crear un nuevo DataFrame con las columnas deseadas\n",
    "# production_df = df[[\"id\", \"production_companies\", \"production_countries\"]]\n",
    "\n",
    "# # Guardar el DataFrame en un archivo CSV\n",
    "# production_df.to_csv(\"production.csv\", index=False)"
   ]
  },
  {
   "attachments": {},
   "cell_type": "markdown",
   "metadata": {},
   "source": [
    "Crear archivo \"movie_collections.csv\"\n",
    "\n",
    "*Columnas:*<br>\n",
    "\"id\", \"belongs_to_collection\""
   ]
  },
  {
   "cell_type": "code",
   "execution_count": null,
   "metadata": {},
   "outputs": [],
   "source": [
    "# # Crear un nuevo DataFrame con las columnas deseadas\n",
    "# collections_df = df[[\"id\", \"belongs_to_collection\"]]\n",
    "\n",
    "# # Guardar el DataFrame en un archivo CSV\n",
    "# collections_df.to_csv(\"movie_collections.csv\", index=False)"
   ]
  },
  {
   "attachments": {},
   "cell_type": "markdown",
   "metadata": {},
   "source": [
    "Crear archivo \"movie_genres.csv\"\n",
    "\n",
    "*Columnas:*<br>\n",
    "\"id\", \"genres\""
   ]
  },
  {
   "cell_type": "code",
   "execution_count": 7,
   "metadata": {},
   "outputs": [],
   "source": [
    "# # Expandir la columna \"genres\" en filas\n",
    "# genres_df = df.explode(\"genres\")\n",
    "\n",
    "# # Crear un nuevo DataFrame con las columnas deseadas\n",
    "# movie_genres_df = genres_df[[\"id\", \"genres\"]]\n",
    "\n",
    "# # Guardar el DataFrame en un archivo CSV\n",
    "# movie_genres_df.to_csv(\"movie_genres.csv\", index=False)"
   ]
  },
  {
   "attachments": {},
   "cell_type": "markdown",
   "metadata": {},
   "source": [
    "Crear archivo \"spoken_languages.csv\"\n",
    "\n",
    "*Columnas:*<br>\n",
    "\"id\", \"spoken_languages\""
   ]
  },
  {
   "cell_type": "code",
   "execution_count": null,
   "metadata": {},
   "outputs": [],
   "source": [
    "# # Expandir la columna \"spoken_languages\" en filas\n",
    "# languages_df = df.explode(\"spoken_languages\")\n",
    "\n",
    "# # Crear un nuevo DataFrame con las columnas deseadas\n",
    "# spoken_languages_df = languages_df[[\"id\", \"spoken_languages\"]]\n",
    "\n",
    "# # Guardar el DataFrame en un archivo CSV\n",
    "# spoken_languages_df.to_csv(\"spoken_languages.csv\", index=False)"
   ]
  }
 ],
 "metadata": {
  "kernelspec": {
   "display_name": "Python 3",
   "language": "python",
   "name": "python3"
  },
  "language_info": {
   "codemirror_mode": {
    "name": "ipython",
    "version": 3
   },
   "file_extension": ".py",
   "mimetype": "text/x-python",
   "name": "python",
   "nbconvert_exporter": "python",
   "pygments_lexer": "ipython3",
   "version": "3.11.2"
  },
  "orig_nbformat": 4
 },
 "nbformat": 4,
 "nbformat_minor": 2
}
