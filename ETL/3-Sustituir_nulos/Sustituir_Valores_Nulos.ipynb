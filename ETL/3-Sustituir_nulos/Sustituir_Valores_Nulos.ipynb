{
 "cells": [
  {
   "attachments": {},
   "cell_type": "markdown",
   "metadata": {},
   "source": [
    "## Los valores nulos de los campos \"revenue\", \"budget\" deben ser rellenados por el número 0."
   ]
  },
  {
   "attachments": {},
   "cell_type": "markdown",
   "metadata": {},
   "source": [
    "### *Se revisan los tipos de datos en cada columna, si es necesario se modifican y/o eliminan filas con datos no coerentes*"
   ]
  },
  {
   "cell_type": "code",
   "execution_count": 1,
   "metadata": {},
   "outputs": [],
   "source": [
    "# Importar librerías\n",
    "import pandas as pd"
   ]
  },
  {
   "cell_type": "code",
   "execution_count": 2,
   "metadata": {},
   "outputs": [],
   "source": [
    "# Lee el archivo CSV \"movie_details.csv\" donde se encuentran las columnas\n",
    "df = pd.read_csv(\"../movie_details.csv\")"
   ]
  },
  {
   "cell_type": "code",
   "execution_count": 3,
   "metadata": {},
   "outputs": [
    {
     "data": {
      "text/plain": [
       "(45463, 7)"
      ]
     },
     "execution_count": 3,
     "metadata": {},
     "output_type": "execute_result"
    }
   ],
   "source": [
    "# Dimenciones del dataSet\n",
    "df.shape"
   ]
  },
  {
   "attachments": {},
   "cell_type": "markdown",
   "metadata": {},
   "source": [
    "### Listar las Columnas del DataSets"
   ]
  },
  {
   "cell_type": "code",
   "execution_count": 4,
   "metadata": {},
   "outputs": [
    {
     "data": {
      "text/plain": [
       "['id',\n",
       " 'original_language',\n",
       " 'runtime',\n",
       " 'budget',\n",
       " 'revenue',\n",
       " 'homepage',\n",
       " 'tagline']"
      ]
     },
     "execution_count": 4,
     "metadata": {},
     "output_type": "execute_result"
    }
   ],
   "source": [
    "columnas_disponibles = df.columns.tolist()\n",
    "columnas_disponibles"
   ]
  },
  {
   "cell_type": "code",
   "execution_count": 5,
   "metadata": {},
   "outputs": [
    {
     "data": {
      "text/html": [
       "<div>\n",
       "<style scoped>\n",
       "    .dataframe tbody tr th:only-of-type {\n",
       "        vertical-align: middle;\n",
       "    }\n",
       "\n",
       "    .dataframe tbody tr th {\n",
       "        vertical-align: top;\n",
       "    }\n",
       "\n",
       "    .dataframe thead th {\n",
       "        text-align: right;\n",
       "    }\n",
       "</style>\n",
       "<table border=\"1\" class=\"dataframe\">\n",
       "  <thead>\n",
       "    <tr style=\"text-align: right;\">\n",
       "      <th></th>\n",
       "      <th>id</th>\n",
       "      <th>original_language</th>\n",
       "      <th>runtime</th>\n",
       "      <th>budget</th>\n",
       "      <th>revenue</th>\n",
       "      <th>homepage</th>\n",
       "      <th>tagline</th>\n",
       "    </tr>\n",
       "  </thead>\n",
       "  <tbody>\n",
       "    <tr>\n",
       "      <th>0</th>\n",
       "      <td>862</td>\n",
       "      <td>en</td>\n",
       "      <td>81</td>\n",
       "      <td>30000000.0</td>\n",
       "      <td>373554033.0</td>\n",
       "      <td>http://toystory.disney.com/toy-story</td>\n",
       "      <td>NaN</td>\n",
       "    </tr>\n",
       "    <tr>\n",
       "      <th>1</th>\n",
       "      <td>8844</td>\n",
       "      <td>en</td>\n",
       "      <td>104</td>\n",
       "      <td>65000000.0</td>\n",
       "      <td>262797249.0</td>\n",
       "      <td>NaN</td>\n",
       "      <td>Roll the dice and unleash the excitement!</td>\n",
       "    </tr>\n",
       "    <tr>\n",
       "      <th>2</th>\n",
       "      <td>15602</td>\n",
       "      <td>en</td>\n",
       "      <td>101</td>\n",
       "      <td>0.0</td>\n",
       "      <td>0.0</td>\n",
       "      <td>NaN</td>\n",
       "      <td>Still Yelling. Still Fighting. Still Ready for...</td>\n",
       "    </tr>\n",
       "    <tr>\n",
       "      <th>3</th>\n",
       "      <td>31357</td>\n",
       "      <td>en</td>\n",
       "      <td>127</td>\n",
       "      <td>16000000.0</td>\n",
       "      <td>81452156.0</td>\n",
       "      <td>NaN</td>\n",
       "      <td>Friends are the people who let you be yourself...</td>\n",
       "    </tr>\n",
       "    <tr>\n",
       "      <th>4</th>\n",
       "      <td>11862</td>\n",
       "      <td>en</td>\n",
       "      <td>106</td>\n",
       "      <td>0.0</td>\n",
       "      <td>76578911.0</td>\n",
       "      <td>NaN</td>\n",
       "      <td>Just When His World Is Back To Normal... He's ...</td>\n",
       "    </tr>\n",
       "  </tbody>\n",
       "</table>\n",
       "</div>"
      ],
      "text/plain": [
       "      id original_language  runtime      budget      revenue  \\\n",
       "0    862                en       81  30000000.0  373554033.0   \n",
       "1   8844                en      104  65000000.0  262797249.0   \n",
       "2  15602                en      101         0.0          0.0   \n",
       "3  31357                en      127  16000000.0   81452156.0   \n",
       "4  11862                en      106         0.0   76578911.0   \n",
       "\n",
       "                               homepage  \\\n",
       "0  http://toystory.disney.com/toy-story   \n",
       "1                                   NaN   \n",
       "2                                   NaN   \n",
       "3                                   NaN   \n",
       "4                                   NaN   \n",
       "\n",
       "                                             tagline  \n",
       "0                                                NaN  \n",
       "1          Roll the dice and unleash the excitement!  \n",
       "2  Still Yelling. Still Fighting. Still Ready for...  \n",
       "3  Friends are the people who let you be yourself...  \n",
       "4  Just When His World Is Back To Normal... He's ...  "
      ]
     },
     "execution_count": 5,
     "metadata": {},
     "output_type": "execute_result"
    }
   ],
   "source": [
    "# Imprime los primeros 5 registros del DataFrame\n",
    "df.head()"
   ]
  },
  {
   "attachments": {},
   "cell_type": "markdown",
   "metadata": {},
   "source": [
    "### Verificar los tipo de datos que hay en cada columna"
   ]
  },
  {
   "cell_type": "code",
   "execution_count": 6,
   "metadata": {},
   "outputs": [
    {
     "name": "stdout",
     "output_type": "stream",
     "text": [
      "id                     int64\n",
      "original_language     object\n",
      "runtime                int64\n",
      "budget               float64\n",
      "revenue              float64\n",
      "homepage              object\n",
      "tagline               object\n",
      "dtype: object\n"
     ]
    }
   ],
   "source": [
    "# Verificar el tipo de datos de cada columna\n",
    "tipos_de_datos = df.dtypes\n",
    "\n",
    "# Mostrar los tipos de datos de cada columna\n",
    "print(tipos_de_datos)"
   ]
  },
  {
   "attachments": {},
   "cell_type": "markdown",
   "metadata": {},
   "source": [
    "### Revision y conversion de los tipos de datos de la columna \"id\""
   ]
  },
  {
   "cell_type": "code",
   "execution_count": 7,
   "metadata": {},
   "outputs": [
    {
     "name": "stdout",
     "output_type": "stream",
     "text": [
      "Tipo de datos en la columna 'id' después de la conversión: int32\n",
      "Cantidad de datos en la columna 'id': 45463\n"
     ]
    }
   ],
   "source": [
    "# Convertir los datos de la columna \"id\" a tipo int64\n",
    "df[\"id\"] = pd.to_numeric(df[\"id\"], errors='coerce')\n",
    "\n",
    "# Eliminar las filas con valores faltantes en la columna \"id\"\n",
    "df = df.dropna(subset=[\"id\"])\n",
    "\n",
    "# Convertir los datos de la columna \"id\" a tipo int64\n",
    "df[\"id\"] = df[\"id\"].astype(int)\n",
    "\n",
    "# Verificar el tipo de datos en la columna \"id\" después de la conversión\n",
    "tipo_datos_id = df[\"id\"].dtypes\n",
    "print(\"Tipo de datos en la columna 'id' después de la conversión:\", tipo_datos_id)\n",
    "\n",
    "# Imprimir la cantidad de datos en la columna \"id\"\n",
    "cantidad_datos_id = len(df[\"id\"])\n",
    "print(\"Cantidad de datos en la columna 'id':\", cantidad_datos_id)"
   ]
  },
  {
   "attachments": {},
   "cell_type": "markdown",
   "metadata": {},
   "source": [
    "### Revision y conversion de los tipos de datos de la columna \"original_language\" "
   ]
  },
  {
   "cell_type": "code",
   "execution_count": 8,
   "metadata": {},
   "outputs": [
    {
     "name": "stdout",
     "output_type": "stream",
     "text": [
      "Tipo de datos en la columna 'original_language' después de la conversión: category\n",
      "Cantidad de datos en la columna 'original_language': 45463\n"
     ]
    }
   ],
   "source": [
    "# Convertir los datos de la columna \"original_language\" a tipo categórico\n",
    "df[\"original_language\"] = df[\"original_language\"].astype(\"category\")\n",
    "\n",
    "# Verificar el tipo de datos en la columna \"original_language\" después de la conversión\n",
    "tipo_datos_original_language = df[\"original_language\"].dtypes\n",
    "print(\"Tipo de datos en la columna 'original_language' después de la conversión:\", tipo_datos_original_language)\n",
    "\n",
    "# Imprimir la cantidad de datos en la columna \"id\"\n",
    "cantidad_elementos_original_language = len(df[\"original_language\"])\n",
    "print(\"Cantidad de datos en la columna 'original_language':\", cantidad_elementos_original_language)"
   ]
  },
  {
   "attachments": {},
   "cell_type": "markdown",
   "metadata": {},
   "source": [
    "### Revision y conversion de los tipos de datos de la columna \"revenue\""
   ]
  },
  {
   "cell_type": "code",
   "execution_count": 9,
   "metadata": {},
   "outputs": [
    {
     "name": "stdout",
     "output_type": "stream",
     "text": [
      "Tipo de datos en la columna 'revenue': float64\n",
      "Cantidad de datos en la columna 'revenue': 45463\n"
     ]
    }
   ],
   "source": [
    "# Verificar el tipo de datos de la columna \"revenue\"\n",
    "tipo_datos_revenue = df[\"revenue\"].dtypes\n",
    "print(\"Tipo de datos en la columna 'revenue':\", tipo_datos_revenue)\n",
    "\n",
    "# Imprimir la cantidad de datos en la columna \"revenue\"\n",
    "cantidad_datos_revenue = len(df[\"revenue\"])\n",
    "print(\"Cantidad de datos en la columna 'revenue':\", cantidad_datos_revenue)"
   ]
  },
  {
   "cell_type": "markdown",
   "metadata": {},
   "source": [
    "### Revision y conversion de los tipos de datos de la columna \"budget\""
   ]
  },
  {
   "cell_type": "code",
   "execution_count": 10,
   "metadata": {},
   "outputs": [
    {
     "name": "stdout",
     "output_type": "stream",
     "text": [
      "Tipo de datos en la columna 'budget' después de la conversión: float64\n"
     ]
    }
   ],
   "source": [
    "# Reemplazar los valores no numéricos en la columna \"budget\" por cero\n",
    "df[\"budget\"] = pd.to_numeric(df[\"budget\"], errors=\"coerce\").fillna(0)\n",
    "\n",
    "# Convertir los datos de la columna \"budget\" a tipo float64\n",
    "df[\"budget\"] = df[\"budget\"].astype(float)\n",
    "\n",
    "# Verificar el tipo de datos de la columna \"budget\" después de la conversión\n",
    "tipo_datos_budget = df[\"budget\"].dtypes\n",
    "print(\"Tipo de datos en la columna 'budget' después de la conversión:\", tipo_datos_budget)\n"
   ]
  },
  {
   "attachments": {},
   "cell_type": "markdown",
   "metadata": {},
   "source": [
    "### *Sustituir los valores nulos por ceros*"
   ]
  },
  {
   "cell_type": "code",
   "execution_count": 11,
   "metadata": {},
   "outputs": [],
   "source": [
    "# Rellenar los valores nulos con 0 en las columnas \"revenue\" y \"budget\"\n",
    "df[\"revenue\"].fillna(0, inplace=True)\n",
    "df[\"budget\"].fillna(0, inplace=True)"
   ]
  },
  {
   "cell_type": "code",
   "execution_count": 12,
   "metadata": {},
   "outputs": [],
   "source": [
    "# # Guardar los cambios en el archivo CSV\n",
    "# ruta_archivo = \"../movie_details.csv\"\n",
    "# df.to_csv(ruta_archivo, index=False)"
   ]
  },
  {
   "cell_type": "code",
   "execution_count": 13,
   "metadata": {},
   "outputs": [
    {
     "data": {
      "text/plain": [
       "(45463, 7)"
      ]
     },
     "execution_count": 13,
     "metadata": {},
     "output_type": "execute_result"
    }
   ],
   "source": [
    "# Dimenciones del dataSet\n",
    "df.shape"
   ]
  },
  {
   "attachments": {},
   "cell_type": "markdown",
   "metadata": {},
   "source": [
    "### Resumen:\n",
    "\n",
    "La columna \"id\" parece contener valores de tipo cadena de texto (object). Si los valores en esta columna representan identificadores únicos, podría ser más adecuado utilizar un tipo de dato numérico o una representación más eficiente, como int64. Sin embargo, esto depende del propósito y la naturaleza de los datos.\n",
    "\n",
    "La columna \"original_language\" también contiene valores de tipo cadena de texto (object). Si los valores en esta columna representan códigos de idioma, podría ser más apropiado utilizar un tipo de dato categórico (category) en lugar de un tipo de dato de cadena de texto.\n",
    "\n",
    "La columna \"runtime\" parece contener valores numéricos de tipo flotante (float64), lo cual es apropiado para representar la duración en minutos de una película.\n",
    "\n",
    "Las columnas \"budget\" y \"revenue\" también parecen contener valores numéricos de tipo flotante (float64), lo cual es adecuado para representar montos monetarios.\n",
    "\n",
    "La columna \"homepage\" contiene valores de tipo cadena de texto (object) que representan enlaces a sitios web. Si no se requiere realizar operaciones específicas en los enlaces, el tipo de dato de cadena de texto puede ser adecuado. Sin embargo, si se desea realizar operaciones adicionales, como extraer información de los enlaces, se podría considerar utilizar un tipo de dato especializado para manejar URLs.\n",
    "\n",
    "La columna \"tagline\" también contiene valores de tipo cadena de texto (object), lo cual es apropiado si los valores representan frases o lemas promocionales de las películas.\n",
    "\n",
    "En resumen, parece que los tipos de datos utilizados en la mayoría de las columnas son adecuados para los datos proporcionados. Sin embargo, podrías considerar ajustar los tipos de datos de las columnas \"id\" y \"original_language\" según el propósito y las operaciones que planeas realizar con ellos."
   ]
  }
 ],
 "metadata": {
  "kernelspec": {
   "display_name": "Python 3",
   "language": "python",
   "name": "python3"
  },
  "language_info": {
   "codemirror_mode": {
    "name": "ipython",
    "version": 3
   },
   "file_extension": ".py",
   "mimetype": "text/x-python",
   "name": "python",
   "nbconvert_exporter": "python",
   "pygments_lexer": "ipython3",
   "version": "3.11.2"
  },
  "orig_nbformat": 4
 },
 "nbformat": 4,
 "nbformat_minor": 2
}
