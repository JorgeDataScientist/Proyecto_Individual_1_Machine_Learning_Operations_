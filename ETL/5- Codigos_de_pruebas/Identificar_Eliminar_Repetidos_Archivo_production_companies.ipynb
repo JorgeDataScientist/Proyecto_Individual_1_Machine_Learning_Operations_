{
 "cells": [
  {
   "attachments": {},
   "cell_type": "markdown",
   "metadata": {},
   "source": [
    "# Eliminar valores repetidos en archivo production_companies"
   ]
  },
  {
   "cell_type": "code",
   "execution_count": 91,
   "metadata": {},
   "outputs": [],
   "source": [
    "# Importar librerías\n",
    "import pandas as pd\n",
    "import numpy as np"
   ]
  },
  {
   "cell_type": "code",
   "execution_count": 92,
   "metadata": {},
   "outputs": [],
   "source": [
    "# Lee el archivo CSV \"movie_details.csv\" donde se encuentran las columnas\n",
    "df = pd.read_csv(\"../production_companies.csv\")"
   ]
  },
  {
   "cell_type": "code",
   "execution_count": 93,
   "metadata": {},
   "outputs": [
    {
     "data": {
      "text/plain": [
       "(68436, 3)"
      ]
     },
     "execution_count": 93,
     "metadata": {},
     "output_type": "execute_result"
    }
   ],
   "source": [
    "# Dimenciones del dataSet\n",
    "df.shape"
   ]
  },
  {
   "cell_type": "code",
   "execution_count": 94,
   "metadata": {},
   "outputs": [
    {
     "data": {
      "text/html": [
       "<div>\n",
       "<style scoped>\n",
       "    .dataframe tbody tr th:only-of-type {\n",
       "        vertical-align: middle;\n",
       "    }\n",
       "\n",
       "    .dataframe tbody tr th {\n",
       "        vertical-align: top;\n",
       "    }\n",
       "\n",
       "    .dataframe thead th {\n",
       "        text-align: right;\n",
       "    }\n",
       "</style>\n",
       "<table border=\"1\" class=\"dataframe\">\n",
       "  <thead>\n",
       "    <tr style=\"text-align: right;\">\n",
       "      <th></th>\n",
       "      <th>id</th>\n",
       "      <th>pc_id</th>\n",
       "      <th>pc_name</th>\n",
       "    </tr>\n",
       "  </thead>\n",
       "  <tbody>\n",
       "    <tr>\n",
       "      <th>0</th>\n",
       "      <td>862</td>\n",
       "      <td>3</td>\n",
       "      <td>Pixar Animation Studios</td>\n",
       "    </tr>\n",
       "    <tr>\n",
       "      <th>1</th>\n",
       "      <td>8844</td>\n",
       "      <td>559</td>\n",
       "      <td>TriStar Pictures</td>\n",
       "    </tr>\n",
       "    <tr>\n",
       "      <th>2</th>\n",
       "      <td>8844</td>\n",
       "      <td>2550</td>\n",
       "      <td>Teitler Film</td>\n",
       "    </tr>\n",
       "    <tr>\n",
       "      <th>3</th>\n",
       "      <td>8844</td>\n",
       "      <td>10201</td>\n",
       "      <td>Interscope Communications</td>\n",
       "    </tr>\n",
       "    <tr>\n",
       "      <th>4</th>\n",
       "      <td>15602</td>\n",
       "      <td>6194</td>\n",
       "      <td>Warner Bros.</td>\n",
       "    </tr>\n",
       "    <tr>\n",
       "      <th>5</th>\n",
       "      <td>15602</td>\n",
       "      <td>19464</td>\n",
       "      <td>Lancaster Gate</td>\n",
       "    </tr>\n",
       "  </tbody>\n",
       "</table>\n",
       "</div>"
      ],
      "text/plain": [
       "      id  pc_id                    pc_name\n",
       "0    862      3    Pixar Animation Studios\n",
       "1   8844    559           TriStar Pictures\n",
       "2   8844   2550               Teitler Film\n",
       "3   8844  10201  Interscope Communications\n",
       "4  15602   6194               Warner Bros.\n",
       "5  15602  19464             Lancaster Gate"
      ]
     },
     "execution_count": 94,
     "metadata": {},
     "output_type": "execute_result"
    }
   ],
   "source": [
    "df.head(6)"
   ]
  },
  {
   "cell_type": "code",
   "execution_count": 95,
   "metadata": {},
   "outputs": [],
   "source": [
    "df_sin_duplicados = df.drop_duplicates()"
   ]
  },
  {
   "cell_type": "code",
   "execution_count": 96,
   "metadata": {},
   "outputs": [
    {
     "name": "stdout",
     "output_type": "stream",
     "text": [
      "Número de filas duplicadas: 0\n"
     ]
    }
   ],
   "source": [
    "# Contar el número de filas duplicadas en el DataFrame\n",
    "num_filas_duplicadas = df.duplicated().sum()\n",
    "\n",
    "# Imprimir el resultado\n",
    "print(\"Número de filas duplicadas:\", num_filas_duplicadas)"
   ]
  },
  {
   "cell_type": "code",
   "execution_count": 97,
   "metadata": {},
   "outputs": [],
   "source": [
    "df_sin_duplicados = df.drop_duplicates(subset=['id'])"
   ]
  },
  {
   "cell_type": "code",
   "execution_count": 98,
   "metadata": {},
   "outputs": [
    {
     "name": "stdout",
     "output_type": "stream",
     "text": [
      "Número de filas duplicadas: 0\n"
     ]
    }
   ],
   "source": [
    "# Contar el número de filas duplicadas en el DataFrame\n",
    "num_filas_duplicadas = df.duplicated().sum()\n",
    "\n",
    "# Imprimir el resultado\n",
    "print(\"Número de filas duplicadas:\", num_filas_duplicadas)"
   ]
  },
  {
   "cell_type": "code",
   "execution_count": 99,
   "metadata": {},
   "outputs": [
    {
     "name": "stdout",
     "output_type": "stream",
     "text": [
      "[]\n"
     ]
    }
   ],
   "source": [
    "duplicados = df[df.duplicated()]\n",
    "ids_duplicados = duplicados[\"id\"].tolist()\n",
    "print(ids_duplicados)\n"
   ]
  },
  {
   "cell_type": "code",
   "execution_count": 100,
   "metadata": {},
   "outputs": [],
   "source": [
    "def eliminar_duplicados_por_id(df, lista_ids):\n",
    "    \"\"\"\n",
    "    Elimina filas duplicadas en un DataFrame basado en una lista de IDs.\n",
    "\n",
    "    Args:\n",
    "        df (pandas.DataFrame): DataFrame en el que se eliminarán los duplicados.\n",
    "        lista_ids (list): Lista de IDs que se utilizarán como referencia para eliminar los duplicados.\n",
    "\n",
    "    Returns:\n",
    "        pandas.DataFrame: DataFrame resultante sin duplicados.\n",
    "\n",
    "    \"\"\"\n",
    "    for id in lista_ids:\n",
    "        df = df.drop_duplicates(subset='id', keep='first')\n",
    "    return df\n"
   ]
  },
  {
   "cell_type": "code",
   "execution_count": 101,
   "metadata": {},
   "outputs": [],
   "source": [
    "lista_ids = ids_duplicados # Reemplaza con los números de id que desees eliminar duplicados\n",
    "\n",
    "df = eliminar_duplicados_por_id(df, lista_ids)\n"
   ]
  },
  {
   "cell_type": "code",
   "execution_count": 102,
   "metadata": {},
   "outputs": [
    {
     "name": "stdout",
     "output_type": "stream",
     "text": [
      "Cantidad de filas duplicadas: 0\n"
     ]
    }
   ],
   "source": [
    "# Encuentra las filas duplicadas en el DataFrame\n",
    "duplicados = df[df.duplicated()]\n",
    "\n",
    "# Calcula la cantidad de veces que se repiten las filas duplicadas\n",
    "cantidad_duplicados = duplicados.shape[0]\n",
    "\n",
    "# Imprime la cantidad de filas duplicadas\n",
    "print(\"Cantidad de filas duplicadas:\", cantidad_duplicados)"
   ]
  },
  {
   "cell_type": "code",
   "execution_count": 103,
   "metadata": {},
   "outputs": [
    {
     "data": {
      "text/html": [
       "<div>\n",
       "<style scoped>\n",
       "    .dataframe tbody tr th:only-of-type {\n",
       "        vertical-align: middle;\n",
       "    }\n",
       "\n",
       "    .dataframe tbody tr th {\n",
       "        vertical-align: top;\n",
       "    }\n",
       "\n",
       "    .dataframe thead th {\n",
       "        text-align: right;\n",
       "    }\n",
       "</style>\n",
       "<table border=\"1\" class=\"dataframe\">\n",
       "  <thead>\n",
       "    <tr style=\"text-align: right;\">\n",
       "      <th></th>\n",
       "      <th>id</th>\n",
       "      <th>pc_id</th>\n",
       "      <th>pc_name</th>\n",
       "    </tr>\n",
       "  </thead>\n",
       "  <tbody>\n",
       "  </tbody>\n",
       "</table>\n",
       "</div>"
      ],
      "text/plain": [
       "Empty DataFrame\n",
       "Columns: [id, pc_id, pc_name]\n",
       "Index: []"
      ]
     },
     "execution_count": 103,
     "metadata": {},
     "output_type": "execute_result"
    }
   ],
   "source": [
    "id_fila = 119916  # Reemplaza 123 con el ID de la fila que deseas ver\n",
    "\n",
    "fila = df[df[\"id\"] == id_fila]\n",
    "fila"
   ]
  },
  {
   "cell_type": "code",
   "execution_count": 104,
   "metadata": {},
   "outputs": [
    {
     "data": {
      "text/html": [
       "<div>\n",
       "<style scoped>\n",
       "    .dataframe tbody tr th:only-of-type {\n",
       "        vertical-align: middle;\n",
       "    }\n",
       "\n",
       "    .dataframe tbody tr th {\n",
       "        vertical-align: top;\n",
       "    }\n",
       "\n",
       "    .dataframe thead th {\n",
       "        text-align: right;\n",
       "    }\n",
       "</style>\n",
       "<table border=\"1\" class=\"dataframe\">\n",
       "  <thead>\n",
       "    <tr style=\"text-align: right;\">\n",
       "      <th></th>\n",
       "      <th>id</th>\n",
       "      <th>pc_id</th>\n",
       "      <th>pc_name</th>\n",
       "    </tr>\n",
       "  </thead>\n",
       "  <tbody>\n",
       "    <tr>\n",
       "      <th>0</th>\n",
       "      <td>862</td>\n",
       "      <td>3</td>\n",
       "      <td>Pixar Animation Studios</td>\n",
       "    </tr>\n",
       "    <tr>\n",
       "      <th>1</th>\n",
       "      <td>8844</td>\n",
       "      <td>559</td>\n",
       "      <td>TriStar Pictures</td>\n",
       "    </tr>\n",
       "    <tr>\n",
       "      <th>2</th>\n",
       "      <td>8844</td>\n",
       "      <td>2550</td>\n",
       "      <td>Teitler Film</td>\n",
       "    </tr>\n",
       "    <tr>\n",
       "      <th>3</th>\n",
       "      <td>8844</td>\n",
       "      <td>10201</td>\n",
       "      <td>Interscope Communications</td>\n",
       "    </tr>\n",
       "    <tr>\n",
       "      <th>4</th>\n",
       "      <td>15602</td>\n",
       "      <td>6194</td>\n",
       "      <td>Warner Bros.</td>\n",
       "    </tr>\n",
       "    <tr>\n",
       "      <th>5</th>\n",
       "      <td>15602</td>\n",
       "      <td>19464</td>\n",
       "      <td>Lancaster Gate</td>\n",
       "    </tr>\n",
       "  </tbody>\n",
       "</table>\n",
       "</div>"
      ],
      "text/plain": [
       "      id  pc_id                    pc_name\n",
       "0    862      3    Pixar Animation Studios\n",
       "1   8844    559           TriStar Pictures\n",
       "2   8844   2550               Teitler Film\n",
       "3   8844  10201  Interscope Communications\n",
       "4  15602   6194               Warner Bros.\n",
       "5  15602  19464             Lancaster Gate"
      ]
     },
     "execution_count": 104,
     "metadata": {},
     "output_type": "execute_result"
    }
   ],
   "source": [
    "df.head(6)"
   ]
  },
  {
   "cell_type": "code",
   "execution_count": 105,
   "metadata": {},
   "outputs": [
    {
     "data": {
      "text/plain": [
       "(68436, 3)"
      ]
     },
     "execution_count": 105,
     "metadata": {},
     "output_type": "execute_result"
    }
   ],
   "source": [
    "# Dimenciones del dataSet\n",
    "df.shape"
   ]
  },
  {
   "cell_type": "code",
   "execution_count": 106,
   "metadata": {},
   "outputs": [],
   "source": [
    "# # Guardar los cambios en el archivo CSV\n",
    "# ruta_archivo = \"../production_companies.csv\"\n",
    "# df.to_csv(ruta_archivo, index=False)"
   ]
  }
 ],
 "metadata": {
  "kernelspec": {
   "display_name": "Python 3",
   "language": "python",
   "name": "python3"
  },
  "language_info": {
   "codemirror_mode": {
    "name": "ipython",
    "version": 3
   },
   "file_extension": ".py",
   "mimetype": "text/x-python",
   "name": "python",
   "nbconvert_exporter": "python",
   "pygments_lexer": "ipython3",
   "version": "3.11.2"
  },
  "orig_nbformat": 4
 },
 "nbformat": 4,
 "nbformat_minor": 2
}
