{
 "cells": [
  {
   "attachments": {},
   "cell_type": "markdown",
   "metadata": {},
   "source": [
    "# Eliminar valores repetidos en archivo movies"
   ]
  },
  {
   "cell_type": "code",
   "execution_count": 30,
   "metadata": {},
   "outputs": [],
   "source": [
    "# Importar librerías\n",
    "import pandas as pd\n",
    "import numpy as np"
   ]
  },
  {
   "cell_type": "code",
   "execution_count": 31,
   "metadata": {},
   "outputs": [],
   "source": [
    "# Lee el archivo CSV \"movie_details.csv\" donde se encuentran las columnas\n",
    "df = pd.read_csv(\"../movies.csv\")"
   ]
  },
  {
   "cell_type": "code",
   "execution_count": 32,
   "metadata": {},
   "outputs": [
    {
     "data": {
      "text/plain": [
       "(45346, 13)"
      ]
     },
     "execution_count": 32,
     "metadata": {},
     "output_type": "execute_result"
    }
   ],
   "source": [
    "# Dimenciones del dataSet\n",
    "df.shape"
   ]
  },
  {
   "cell_type": "code",
   "execution_count": 33,
   "metadata": {},
   "outputs": [
    {
     "data": {
      "text/html": [
       "<div>\n",
       "<style scoped>\n",
       "    .dataframe tbody tr th:only-of-type {\n",
       "        vertical-align: middle;\n",
       "    }\n",
       "\n",
       "    .dataframe tbody tr th {\n",
       "        vertical-align: top;\n",
       "    }\n",
       "\n",
       "    .dataframe thead th {\n",
       "        text-align: right;\n",
       "    }\n",
       "</style>\n",
       "<table border=\"1\" class=\"dataframe\">\n",
       "  <thead>\n",
       "    <tr style=\"text-align: right;\">\n",
       "      <th></th>\n",
       "      <th>id</th>\n",
       "      <th>title</th>\n",
       "      <th>original_title</th>\n",
       "      <th>overview</th>\n",
       "      <th>popularity</th>\n",
       "      <th>release_date</th>\n",
       "      <th>vote_average</th>\n",
       "      <th>vote_count</th>\n",
       "      <th>adult</th>\n",
       "      <th>imdb_id</th>\n",
       "      <th>poster_path</th>\n",
       "      <th>status</th>\n",
       "      <th>video</th>\n",
       "    </tr>\n",
       "  </thead>\n",
       "  <tbody>\n",
       "    <tr>\n",
       "      <th>0</th>\n",
       "      <td>862</td>\n",
       "      <td>Toy story</td>\n",
       "      <td>Toy Story</td>\n",
       "      <td>Led by Woody, Andy's toys live happily in his ...</td>\n",
       "      <td>21.946943</td>\n",
       "      <td>1995-10-30</td>\n",
       "      <td>7.7</td>\n",
       "      <td>5415.0</td>\n",
       "      <td>True</td>\n",
       "      <td>tt0114709</td>\n",
       "      <td>/rhIRbceoE9lR4veEXuwCC2wARtG.jpg</td>\n",
       "      <td>Released</td>\n",
       "      <td>False</td>\n",
       "    </tr>\n",
       "    <tr>\n",
       "      <th>1</th>\n",
       "      <td>8844</td>\n",
       "      <td>Jumanji</td>\n",
       "      <td>Jumanji</td>\n",
       "      <td>When siblings Judy and Peter discover an encha...</td>\n",
       "      <td>17.015539</td>\n",
       "      <td>1995-12-15</td>\n",
       "      <td>6.9</td>\n",
       "      <td>2413.0</td>\n",
       "      <td>True</td>\n",
       "      <td>tt0113497</td>\n",
       "      <td>/vzmL6fP7aPKNKPRTFnZmiUfciyV.jpg</td>\n",
       "      <td>Released</td>\n",
       "      <td>False</td>\n",
       "    </tr>\n",
       "    <tr>\n",
       "      <th>2</th>\n",
       "      <td>15602</td>\n",
       "      <td>Grumpier old men</td>\n",
       "      <td>Grumpier Old Men</td>\n",
       "      <td>A family wedding reignites the ancient feud be...</td>\n",
       "      <td>11.712900</td>\n",
       "      <td>1995-12-22</td>\n",
       "      <td>6.5</td>\n",
       "      <td>92.0</td>\n",
       "      <td>True</td>\n",
       "      <td>tt0113228</td>\n",
       "      <td>/6ksm1sjKMFLbO7UY2i6G1ju9SML.jpg</td>\n",
       "      <td>Released</td>\n",
       "      <td>False</td>\n",
       "    </tr>\n",
       "  </tbody>\n",
       "</table>\n",
       "</div>"
      ],
      "text/plain": [
       "      id             title    original_title  \\\n",
       "0    862         Toy story         Toy Story   \n",
       "1   8844           Jumanji           Jumanji   \n",
       "2  15602  Grumpier old men  Grumpier Old Men   \n",
       "\n",
       "                                            overview  popularity release_date  \\\n",
       "0  Led by Woody, Andy's toys live happily in his ...   21.946943   1995-10-30   \n",
       "1  When siblings Judy and Peter discover an encha...   17.015539   1995-12-15   \n",
       "2  A family wedding reignites the ancient feud be...   11.712900   1995-12-22   \n",
       "\n",
       "   vote_average  vote_count  adult    imdb_id  \\\n",
       "0           7.7      5415.0   True  tt0114709   \n",
       "1           6.9      2413.0   True  tt0113497   \n",
       "2           6.5        92.0   True  tt0113228   \n",
       "\n",
       "                        poster_path    status  video  \n",
       "0  /rhIRbceoE9lR4veEXuwCC2wARtG.jpg  Released  False  \n",
       "1  /vzmL6fP7aPKNKPRTFnZmiUfciyV.jpg  Released  False  \n",
       "2  /6ksm1sjKMFLbO7UY2i6G1ju9SML.jpg  Released  False  "
      ]
     },
     "execution_count": 33,
     "metadata": {},
     "output_type": "execute_result"
    }
   ],
   "source": [
    "df.head(3)"
   ]
  },
  {
   "cell_type": "code",
   "execution_count": 34,
   "metadata": {},
   "outputs": [],
   "source": [
    "columnas_capitalizar = [\"title\"]  # Reemplaza con los nombres de las columnas que deseas capitalizar\n",
    "\n",
    "df[columnas_capitalizar] = df[columnas_capitalizar].apply(lambda x: x.str.capitalize())"
   ]
  },
  {
   "cell_type": "code",
   "execution_count": 35,
   "metadata": {},
   "outputs": [],
   "source": [
    "df_sin_duplicados = df.drop_duplicates()"
   ]
  },
  {
   "cell_type": "code",
   "execution_count": 36,
   "metadata": {},
   "outputs": [
    {
     "data": {
      "text/plain": [
       "(45346, 13)"
      ]
     },
     "execution_count": 36,
     "metadata": {},
     "output_type": "execute_result"
    }
   ],
   "source": [
    "# Dimenciones del dataSet\n",
    "df.shape"
   ]
  },
  {
   "cell_type": "code",
   "execution_count": 37,
   "metadata": {},
   "outputs": [
    {
     "name": "stdout",
     "output_type": "stream",
     "text": [
      "Número de filas duplicadas: 0\n"
     ]
    }
   ],
   "source": [
    "# Contar el número de filas duplicadas en el DataFrame\n",
    "num_filas_duplicadas = df.duplicated().sum()\n",
    "\n",
    "# Imprimir el resultado\n",
    "print(\"Número de filas duplicadas:\", num_filas_duplicadas)"
   ]
  },
  {
   "cell_type": "code",
   "execution_count": 38,
   "metadata": {},
   "outputs": [],
   "source": [
    "# especifica las columnas que se utilizarán para determinar si una fila es duplicada. En este caso, se considerará una fila duplicada si tanto el valor en la columna \"id\" como el valor en la columna \"title\" son iguales.\n",
    "df_sin_duplicados = df.drop_duplicates(subset=['id', 'title'])"
   ]
  },
  {
   "cell_type": "code",
   "execution_count": 39,
   "metadata": {},
   "outputs": [
    {
     "name": "stdout",
     "output_type": "stream",
     "text": [
      "Número de filas duplicadas: 0\n"
     ]
    }
   ],
   "source": [
    "# Contar el número de filas duplicadas en el DataFrame\n",
    "num_filas_duplicadas = df.duplicated().sum()\n",
    "\n",
    "# Imprimir el resultado\n",
    "print(\"Número de filas duplicadas:\", num_filas_duplicadas)"
   ]
  },
  {
   "cell_type": "code",
   "execution_count": 40,
   "metadata": {},
   "outputs": [
    {
     "name": "stdout",
     "output_type": "stream",
     "text": [
      "[]\n"
     ]
    }
   ],
   "source": [
    "#  Lista con valores duplicados\n",
    "duplicados = df[df.duplicated()]\n",
    "ids_duplicados = duplicados[\"id\"].tolist()\n",
    "print(ids_duplicados)\n"
   ]
  },
  {
   "cell_type": "code",
   "execution_count": 41,
   "metadata": {},
   "outputs": [],
   "source": [
    "def eliminar_duplicados_por_id(df, lista_ids):\n",
    "    \"\"\"\n",
    "    Elimina filas duplicadas en un DataFrame basado en una lista de IDs.\n",
    "\n",
    "    Args:\n",
    "        df (pandas.DataFrame): DataFrame en el que se eliminarán los duplicados.\n",
    "        lista_ids (list): Lista de IDs que se utilizarán como referencia para eliminar los duplicados.\n",
    "\n",
    "    Returns:\n",
    "        pandas.DataFrame: DataFrame resultante sin duplicados.\n",
    "\n",
    "    \"\"\"\n",
    "    for id in lista_ids:\n",
    "        df = df.drop_duplicates(subset='id', keep='first')\n",
    "    return df\n"
   ]
  },
  {
   "cell_type": "code",
   "execution_count": 42,
   "metadata": {},
   "outputs": [],
   "source": [
    "lista_ids = ids_duplicados  # Reemplaza con los números de id que desees eliminar duplicados\n",
    "\n",
    "df = eliminar_duplicados_por_id(df, lista_ids)\n"
   ]
  },
  {
   "cell_type": "code",
   "execution_count": 43,
   "metadata": {},
   "outputs": [
    {
     "name": "stdout",
     "output_type": "stream",
     "text": [
      "Cantidad de filas duplicadas: 0\n"
     ]
    }
   ],
   "source": [
    "# Encuentra las filas duplicadas en el DataFrame\n",
    "duplicados = df[df.duplicated()]\n",
    "\n",
    "# Calcula la cantidad de veces que se repiten las filas duplicadas\n",
    "cantidad_duplicados = duplicados.shape[0]\n",
    "\n",
    "# Imprime la cantidad de filas duplicadas\n",
    "print(\"Cantidad de filas duplicadas:\", cantidad_duplicados)"
   ]
  },
  {
   "cell_type": "code",
   "execution_count": 44,
   "metadata": {},
   "outputs": [
    {
     "data": {
      "text/html": [
       "<div>\n",
       "<style scoped>\n",
       "    .dataframe tbody tr th:only-of-type {\n",
       "        vertical-align: middle;\n",
       "    }\n",
       "\n",
       "    .dataframe tbody tr th {\n",
       "        vertical-align: top;\n",
       "    }\n",
       "\n",
       "    .dataframe thead th {\n",
       "        text-align: right;\n",
       "    }\n",
       "</style>\n",
       "<table border=\"1\" class=\"dataframe\">\n",
       "  <thead>\n",
       "    <tr style=\"text-align: right;\">\n",
       "      <th></th>\n",
       "      <th>id</th>\n",
       "      <th>title</th>\n",
       "      <th>original_title</th>\n",
       "      <th>overview</th>\n",
       "      <th>popularity</th>\n",
       "      <th>release_date</th>\n",
       "      <th>vote_average</th>\n",
       "      <th>vote_count</th>\n",
       "      <th>adult</th>\n",
       "      <th>imdb_id</th>\n",
       "      <th>poster_path</th>\n",
       "      <th>status</th>\n",
       "      <th>video</th>\n",
       "    </tr>\n",
       "  </thead>\n",
       "  <tbody>\n",
       "    <tr>\n",
       "      <th>7339</th>\n",
       "      <td>5511</td>\n",
       "      <td>Le samouraï</td>\n",
       "      <td>Le Samouraï</td>\n",
       "      <td>Hitman Jef Costello is a perfectionist who alw...</td>\n",
       "      <td>9.091288</td>\n",
       "      <td>1967-10-25</td>\n",
       "      <td>7.9</td>\n",
       "      <td>187.0</td>\n",
       "      <td>True</td>\n",
       "      <td>tt0062229</td>\n",
       "      <td>/cvNW8IXigbaMNo4gKEIps0NGnhA.jpg</td>\n",
       "      <td>Released</td>\n",
       "      <td>False</td>\n",
       "    </tr>\n",
       "  </tbody>\n",
       "</table>\n",
       "</div>"
      ],
      "text/plain": [
       "        id        title original_title  \\\n",
       "7339  5511  Le samouraï    Le Samouraï   \n",
       "\n",
       "                                               overview  popularity  \\\n",
       "7339  Hitman Jef Costello is a perfectionist who alw...    9.091288   \n",
       "\n",
       "     release_date  vote_average  vote_count  adult    imdb_id  \\\n",
       "7339   1967-10-25           7.9       187.0   True  tt0062229   \n",
       "\n",
       "                           poster_path    status  video  \n",
       "7339  /cvNW8IXigbaMNo4gKEIps0NGnhA.jpg  Released  False  "
      ]
     },
     "execution_count": 44,
     "metadata": {},
     "output_type": "execute_result"
    }
   ],
   "source": [
    "id_fila = 5511  # Reemplaza con el ID de la fila que deseas ver\n",
    "\n",
    "fila = df[df[\"id\"] == id_fila]\n",
    "fila"
   ]
  },
  {
   "cell_type": "code",
   "execution_count": 45,
   "metadata": {},
   "outputs": [
    {
     "data": {
      "text/plain": [
       "(45346, 13)"
      ]
     },
     "execution_count": 45,
     "metadata": {},
     "output_type": "execute_result"
    }
   ],
   "source": [
    "# Dimenciones del dataSet\n",
    "df.shape"
   ]
  },
  {
   "cell_type": "code",
   "execution_count": 46,
   "metadata": {},
   "outputs": [],
   "source": [
    "# # Guardar los cambios en el archivo CSV\n",
    "# ruta_archivo = \"../movies.csv\"\n",
    "# df.to_csv(ruta_archivo, index=False)"
   ]
  }
 ],
 "metadata": {
  "kernelspec": {
   "display_name": "Python 3",
   "language": "python",
   "name": "python3"
  },
  "language_info": {
   "codemirror_mode": {
    "name": "ipython",
    "version": 3
   },
   "file_extension": ".py",
   "mimetype": "text/x-python",
   "name": "python",
   "nbconvert_exporter": "python",
   "pygments_lexer": "ipython3",
   "version": "3.11.2"
  },
  "orig_nbformat": 4
 },
 "nbformat": 4,
 "nbformat_minor": 2
}
