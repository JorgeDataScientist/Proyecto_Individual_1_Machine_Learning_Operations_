{
 "cells": [
  {
   "cell_type": "code",
   "execution_count": 48,
   "metadata": {},
   "outputs": [],
   "source": [
    "# Importar librerías\n",
    "import pandas as pd\n",
    "import numpy as np\n",
    "import json"
   ]
  },
  {
   "cell_type": "code",
   "execution_count": 49,
   "metadata": {},
   "outputs": [],
   "source": [
    "# Lee el archivo CSV \"movie_details.csv\" donde se encuentran las columnas\n",
    "df = pd.read_csv(\"../movie_genres.csv\")"
   ]
  },
  {
   "attachments": {},
   "cell_type": "markdown",
   "metadata": {},
   "source": [
    "### Listar las Columnas del DataSets"
   ]
  },
  {
   "cell_type": "code",
   "execution_count": 50,
   "metadata": {},
   "outputs": [
    {
     "name": "stdout",
     "output_type": "stream",
     "text": [
      "['id', 'genero_id', 'genero_nombre']\n",
      "3\n"
     ]
    }
   ],
   "source": [
    "columnas_disponibles = df.columns.tolist()\n",
    "print(columnas_disponibles)\n",
    "print(len(columnas_disponibles))"
   ]
  },
  {
   "cell_type": "code",
   "execution_count": 51,
   "metadata": {},
   "outputs": [
    {
     "data": {
      "text/html": [
       "<div>\n",
       "<style scoped>\n",
       "    .dataframe tbody tr th:only-of-type {\n",
       "        vertical-align: middle;\n",
       "    }\n",
       "\n",
       "    .dataframe tbody tr th {\n",
       "        vertical-align: top;\n",
       "    }\n",
       "\n",
       "    .dataframe thead th {\n",
       "        text-align: right;\n",
       "    }\n",
       "</style>\n",
       "<table border=\"1\" class=\"dataframe\">\n",
       "  <thead>\n",
       "    <tr style=\"text-align: right;\">\n",
       "      <th></th>\n",
       "      <th>id</th>\n",
       "      <th>genero_id</th>\n",
       "      <th>genero_nombre</th>\n",
       "    </tr>\n",
       "  </thead>\n",
       "  <tbody>\n",
       "    <tr>\n",
       "      <th>0</th>\n",
       "      <td>862</td>\n",
       "      <td>16.0</td>\n",
       "      <td>Animation</td>\n",
       "    </tr>\n",
       "    <tr>\n",
       "      <th>1</th>\n",
       "      <td>8844</td>\n",
       "      <td>35.0</td>\n",
       "      <td>Comedy</td>\n",
       "    </tr>\n",
       "    <tr>\n",
       "      <th>2</th>\n",
       "      <td>15602</td>\n",
       "      <td>10751.0</td>\n",
       "      <td>Family</td>\n",
       "    </tr>\n",
       "  </tbody>\n",
       "</table>\n",
       "</div>"
      ],
      "text/plain": [
       "      id  genero_id genero_nombre\n",
       "0    862       16.0     Animation\n",
       "1   8844       35.0        Comedy\n",
       "2  15602    10751.0        Family"
      ]
     },
     "execution_count": 51,
     "metadata": {},
     "output_type": "execute_result"
    }
   ],
   "source": [
    "# Imprime los primeros 3 registros del DataFrame\n",
    "df.head(3)"
   ]
  },
  {
   "attachments": {},
   "cell_type": "markdown",
   "metadata": {},
   "source": [
    "### Verificar los tipo de datos que hay en cada columna"
   ]
  },
  {
   "cell_type": "code",
   "execution_count": 52,
   "metadata": {},
   "outputs": [
    {
     "name": "stdout",
     "output_type": "stream",
     "text": [
      "id                 int64\n",
      "genero_id        float64\n",
      "genero_nombre     object\n",
      "dtype: object\n"
     ]
    }
   ],
   "source": [
    "# Verificar el tipo de datos de cada columna\n",
    "tipos_de_datos = df.dtypes\n",
    "\n",
    "# Mostrar los tipos de datos de cada columna\n",
    "print(tipos_de_datos)"
   ]
  },
  {
   "attachments": {},
   "cell_type": "markdown",
   "metadata": {},
   "source": [
    "### Revision y conversion de los tipos de datos de la columna \"id\""
   ]
  },
  {
   "cell_type": "code",
   "execution_count": 53,
   "metadata": {},
   "outputs": [
    {
     "name": "stdout",
     "output_type": "stream",
     "text": [
      "Tipo de datos en la columna 'id' después de la conversión: int32\n",
      "Cantidad de datos en la columna 'id': 45433\n"
     ]
    }
   ],
   "source": [
    "# Convertir los datos de la columna \"id\" a tipo int64\n",
    "df[\"id\"] = pd.to_numeric(df[\"id\"], errors='coerce')\n",
    "\n",
    "# Eliminar las filas con valores faltantes en la columna \"id\"\n",
    "df = df.dropna(subset=[\"id\"])\n",
    "\n",
    "# Convertir los datos de la columna \"id\" a tipo int64\n",
    "df[\"id\"] = df[\"id\"].astype(int)\n",
    "\n",
    "# Verificar el tipo de datos en la columna \"id\" después de la conversión\n",
    "tipo_datos_id = df[\"id\"].dtypes\n",
    "print(\"Tipo de datos en la columna 'id' después de la conversión:\", tipo_datos_id)\n",
    "\n",
    "# Imprimir la cantidad de datos en la columna \"id\"\n",
    "cantidad_datos_id = len(df[\"id\"])\n",
    "print(\"Cantidad de datos en la columna 'id':\", cantidad_datos_id)"
   ]
  },
  {
   "cell_type": "code",
   "execution_count": 54,
   "metadata": {},
   "outputs": [
    {
     "name": "stdout",
     "output_type": "stream",
     "text": [
      "Valores no enteros en la columna 'id': 45433\n"
     ]
    }
   ],
   "source": [
    "# Verificar los valores únicos en la columna \"id\"\n",
    "unique_ids = df['id'].unique()\n",
    "\n",
    "# Verificar si hay valores no enteros en la columna \"id\"\n",
    "non_integer_ids = [id for id in unique_ids if not isinstance(id, int)]\n",
    "\n",
    "# Imprimir los valores no enteros encontrados\n",
    "print(\"Valores no enteros en la columna 'id':\", len(non_integer_ids))"
   ]
  },
  {
   "attachments": {},
   "cell_type": "markdown",
   "metadata": {},
   "source": [
    "### Revision y conversion de los tipos de datos de la columna \"genero_id\""
   ]
  },
  {
   "cell_type": "code",
   "execution_count": 55,
   "metadata": {},
   "outputs": [
    {
     "name": "stdout",
     "output_type": "stream",
     "text": [
      "Tipo de datos en la columna 'genero_id' después de la conversión: Int64\n",
      "Cantidad de datos en la columna 'genero_id': 45433\n"
     ]
    }
   ],
   "source": [
    "# Convertir los datos de la columna \"genero_id\" a tipo float64\n",
    "df[\"genero_id\"] = pd.to_numeric(df[\"genero_id\"], errors='coerce')\n",
    "\n",
    "# Convertir los valores nulos o vacíos a tipo Int64\n",
    "df[\"genero_id\"] = df[\"genero_id\"].fillna(pd.NA).astype(\"Int64\")\n",
    "\n",
    "# Verificar el tipo de datos en la columna \"genero_id\" después de la conversión\n",
    "tipo_datos_genero_id = df[\"genero_id\"].dtype\n",
    "print(\"Tipo de datos en la columna 'genero_id' después de la conversión:\", tipo_datos_genero_id)\n",
    "\n",
    "# Imprimir la cantidad de datos en la columna \"genero_id\", incluyendo los valores nulos o vacíos\n",
    "cantidad_datos_genero_id = df[\"genero_id\"].size\n",
    "print(\"Cantidad de datos en la columna 'genero_id':\", cantidad_datos_genero_id)"
   ]
  },
  {
   "cell_type": "code",
   "execution_count": 56,
   "metadata": {},
   "outputs": [
    {
     "name": "stdout",
     "output_type": "stream",
     "text": [
      "<class 'pandas.core.frame.DataFrame'>\n",
      "RangeIndex: 45433 entries, 0 to 45432\n",
      "Data columns (total 3 columns):\n",
      " #   Column         Non-Null Count  Dtype \n",
      "---  ------         --------------  ----- \n",
      " 0   id             45433 non-null  int32 \n",
      " 1   genero_id      44964 non-null  Int64 \n",
      " 2   genero_nombre  44964 non-null  object\n",
      "dtypes: Int64(1), int32(1), object(1)\n",
      "memory usage: 931.9+ KB\n"
     ]
    }
   ],
   "source": [
    "df.info()"
   ]
  },
  {
   "cell_type": "code",
   "execution_count": 57,
   "metadata": {},
   "outputs": [
    {
     "name": "stdout",
     "output_type": "stream",
     "text": [
      "id                int32\n",
      "genero_id         Int64\n",
      "genero_nombre    object\n",
      "dtype: object\n"
     ]
    }
   ],
   "source": [
    "# Verificar el tipo de datos de cada columna\n",
    "tipos_de_datos = df.dtypes\n",
    "\n",
    "# Mostrar los tipos de datos de cada columna\n",
    "print(tipos_de_datos)"
   ]
  },
  {
   "cell_type": "code",
   "execution_count": 58,
   "metadata": {},
   "outputs": [
    {
     "data": {
      "text/html": [
       "<div>\n",
       "<style scoped>\n",
       "    .dataframe tbody tr th:only-of-type {\n",
       "        vertical-align: middle;\n",
       "    }\n",
       "\n",
       "    .dataframe tbody tr th {\n",
       "        vertical-align: top;\n",
       "    }\n",
       "\n",
       "    .dataframe thead th {\n",
       "        text-align: right;\n",
       "    }\n",
       "</style>\n",
       "<table border=\"1\" class=\"dataframe\">\n",
       "  <thead>\n",
       "    <tr style=\"text-align: right;\">\n",
       "      <th></th>\n",
       "      <th>id</th>\n",
       "      <th>genero_id</th>\n",
       "      <th>genero_nombre</th>\n",
       "    </tr>\n",
       "  </thead>\n",
       "  <tbody>\n",
       "    <tr>\n",
       "      <th>0</th>\n",
       "      <td>862</td>\n",
       "      <td>16</td>\n",
       "      <td>Animation</td>\n",
       "    </tr>\n",
       "    <tr>\n",
       "      <th>1</th>\n",
       "      <td>8844</td>\n",
       "      <td>35</td>\n",
       "      <td>Comedy</td>\n",
       "    </tr>\n",
       "    <tr>\n",
       "      <th>2</th>\n",
       "      <td>15602</td>\n",
       "      <td>10751</td>\n",
       "      <td>Family</td>\n",
       "    </tr>\n",
       "  </tbody>\n",
       "</table>\n",
       "</div>"
      ],
      "text/plain": [
       "      id  genero_id genero_nombre\n",
       "0    862         16     Animation\n",
       "1   8844         35        Comedy\n",
       "2  15602      10751        Family"
      ]
     },
     "execution_count": 58,
     "metadata": {},
     "output_type": "execute_result"
    }
   ],
   "source": [
    "# Imprime los primeros 3 registros del DataFrame\n",
    "df.head(3)"
   ]
  },
  {
   "cell_type": "code",
   "execution_count": 59,
   "metadata": {},
   "outputs": [],
   "source": [
    "# # Guardar los cambios en el archivo CSV\n",
    "# ruta_archivo = \"../movie_genres.csv\"\n",
    "# df.to_csv(ruta_archivo, index=False)"
   ]
  }
 ],
 "metadata": {
  "kernelspec": {
   "display_name": "Python 3",
   "language": "python",
   "name": "python3"
  },
  "language_info": {
   "codemirror_mode": {
    "name": "ipython",
    "version": 3
   },
   "file_extension": ".py",
   "mimetype": "text/x-python",
   "name": "python",
   "nbconvert_exporter": "python",
   "pygments_lexer": "ipython3",
   "version": "3.11.2"
  },
  "orig_nbformat": 4
 },
 "nbformat": 4,
 "nbformat_minor": 2
}
