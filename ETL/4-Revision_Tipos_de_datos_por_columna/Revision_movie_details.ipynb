{
 "cells": [
  {
   "cell_type": "code",
   "execution_count": 57,
   "metadata": {},
   "outputs": [],
   "source": [
    "# Importar librerías\n",
    "import pandas as pd\n",
    "import numpy as np"
   ]
  },
  {
   "cell_type": "code",
   "execution_count": 58,
   "metadata": {},
   "outputs": [],
   "source": [
    "# Lee el archivo CSV \"movie_details.csv\" donde se encuentran las columnas\n",
    "df = pd.read_csv(\"../movie_details.csv\")"
   ]
  },
  {
   "cell_type": "code",
   "execution_count": 59,
   "metadata": {},
   "outputs": [
    {
     "data": {
      "text/plain": [
       "(45463, 7)"
      ]
     },
     "execution_count": 59,
     "metadata": {},
     "output_type": "execute_result"
    }
   ],
   "source": [
    "# Dimenciones del dataSet\n",
    "df.shape"
   ]
  },
  {
   "attachments": {},
   "cell_type": "markdown",
   "metadata": {},
   "source": [
    "### Listar las Columnas del DataSets"
   ]
  },
  {
   "cell_type": "code",
   "execution_count": 60,
   "metadata": {},
   "outputs": [
    {
     "name": "stdout",
     "output_type": "stream",
     "text": [
      "['id', 'original_language', 'runtime', 'budget', 'revenue', 'homepage', 'tagline']\n",
      "7\n"
     ]
    }
   ],
   "source": [
    "columnas_disponibles = df.columns.tolist()\n",
    "print(columnas_disponibles)\n",
    "print(len(columnas_disponibles))"
   ]
  },
  {
   "cell_type": "code",
   "execution_count": 61,
   "metadata": {},
   "outputs": [
    {
     "data": {
      "text/html": [
       "<div>\n",
       "<style scoped>\n",
       "    .dataframe tbody tr th:only-of-type {\n",
       "        vertical-align: middle;\n",
       "    }\n",
       "\n",
       "    .dataframe tbody tr th {\n",
       "        vertical-align: top;\n",
       "    }\n",
       "\n",
       "    .dataframe thead th {\n",
       "        text-align: right;\n",
       "    }\n",
       "</style>\n",
       "<table border=\"1\" class=\"dataframe\">\n",
       "  <thead>\n",
       "    <tr style=\"text-align: right;\">\n",
       "      <th></th>\n",
       "      <th>id</th>\n",
       "      <th>original_language</th>\n",
       "      <th>runtime</th>\n",
       "      <th>budget</th>\n",
       "      <th>revenue</th>\n",
       "      <th>homepage</th>\n",
       "      <th>tagline</th>\n",
       "    </tr>\n",
       "  </thead>\n",
       "  <tbody>\n",
       "    <tr>\n",
       "      <th>0</th>\n",
       "      <td>862</td>\n",
       "      <td>en</td>\n",
       "      <td>81</td>\n",
       "      <td>30000000.0</td>\n",
       "      <td>373554033.0</td>\n",
       "      <td>http://toystory.disney.com/toy-story</td>\n",
       "      <td>NaN</td>\n",
       "    </tr>\n",
       "    <tr>\n",
       "      <th>1</th>\n",
       "      <td>8844</td>\n",
       "      <td>en</td>\n",
       "      <td>104</td>\n",
       "      <td>65000000.0</td>\n",
       "      <td>262797249.0</td>\n",
       "      <td>NaN</td>\n",
       "      <td>Roll the dice and unleash the excitement!</td>\n",
       "    </tr>\n",
       "    <tr>\n",
       "      <th>2</th>\n",
       "      <td>15602</td>\n",
       "      <td>en</td>\n",
       "      <td>101</td>\n",
       "      <td>0.0</td>\n",
       "      <td>0.0</td>\n",
       "      <td>NaN</td>\n",
       "      <td>Still Yelling. Still Fighting. Still Ready for...</td>\n",
       "    </tr>\n",
       "  </tbody>\n",
       "</table>\n",
       "</div>"
      ],
      "text/plain": [
       "      id original_language  runtime      budget      revenue  \\\n",
       "0    862                en       81  30000000.0  373554033.0   \n",
       "1   8844                en      104  65000000.0  262797249.0   \n",
       "2  15602                en      101         0.0          0.0   \n",
       "\n",
       "                               homepage  \\\n",
       "0  http://toystory.disney.com/toy-story   \n",
       "1                                   NaN   \n",
       "2                                   NaN   \n",
       "\n",
       "                                             tagline  \n",
       "0                                                NaN  \n",
       "1          Roll the dice and unleash the excitement!  \n",
       "2  Still Yelling. Still Fighting. Still Ready for...  "
      ]
     },
     "execution_count": 61,
     "metadata": {},
     "output_type": "execute_result"
    }
   ],
   "source": [
    "# Imprime los primeros 3 registros del DataFrame\n",
    "df.head(3)"
   ]
  },
  {
   "attachments": {},
   "cell_type": "markdown",
   "metadata": {},
   "source": [
    "### Verificar los tipo de datos que hay en cada columna"
   ]
  },
  {
   "cell_type": "code",
   "execution_count": 62,
   "metadata": {},
   "outputs": [
    {
     "name": "stdout",
     "output_type": "stream",
     "text": [
      "id                     int64\n",
      "original_language     object\n",
      "runtime                int64\n",
      "budget               float64\n",
      "revenue              float64\n",
      "homepage              object\n",
      "tagline               object\n",
      "dtype: object\n"
     ]
    }
   ],
   "source": [
    "# Verificar el tipo de datos de cada columna\n",
    "tipos_de_datos = df.dtypes\n",
    "\n",
    "# Mostrar los tipos de datos de cada columna\n",
    "print(tipos_de_datos)"
   ]
  },
  {
   "attachments": {},
   "cell_type": "markdown",
   "metadata": {},
   "source": [
    "### Revision y conversion de los tipos de datos de la columna \"id\""
   ]
  },
  {
   "cell_type": "code",
   "execution_count": 63,
   "metadata": {},
   "outputs": [
    {
     "name": "stdout",
     "output_type": "stream",
     "text": [
      "Tipo de datos en la columna 'id' después de la conversión: int32\n",
      "Cantidad de datos en la columna 'id': 45463\n"
     ]
    }
   ],
   "source": [
    "# Convertir los datos de la columna \"id\" a tipo int64\n",
    "df[\"id\"] = pd.to_numeric(df[\"id\"], errors='coerce')\n",
    "\n",
    "# Eliminar las filas con valores faltantes en la columna \"id\"\n",
    "df = df.dropna(subset=[\"id\"])\n",
    "\n",
    "# Convertir los datos de la columna \"id\" a tipo int64\n",
    "df[\"id\"] = df[\"id\"].astype(int)\n",
    "\n",
    "# Verificar el tipo de datos en la columna \"id\" después de la conversión\n",
    "tipo_datos_id = df[\"id\"].dtypes\n",
    "print(\"Tipo de datos en la columna 'id' después de la conversión:\", tipo_datos_id)\n",
    "\n",
    "# Imprimir la cantidad de datos en la columna \"id\"\n",
    "cantidad_datos_id = len(df[\"id\"])\n",
    "print(\"Cantidad de datos en la columna 'id':\", cantidad_datos_id)"
   ]
  },
  {
   "attachments": {},
   "cell_type": "markdown",
   "metadata": {},
   "source": [
    "### Revision y conversion de los tipos de datos de la columna \"original_language\""
   ]
  },
  {
   "cell_type": "code",
   "execution_count": 64,
   "metadata": {},
   "outputs": [
    {
     "name": "stdout",
     "output_type": "stream",
     "text": [
      "Tipo de datos en la columna 'original_language' después de la conversión: category\n",
      "Cantidad de datos en la columna 'original_language' después de la conversión: 45463\n"
     ]
    }
   ],
   "source": [
    "# Convertir los datos de la columna \"original_language\" a tipo categorical\n",
    "df[\"original_language\"] = df[\"original_language\"].astype(\"category\")\n",
    "\n",
    "# Reemplazar los valores nulos con la categoría \"NaN\"\n",
    "df[\"original_language\"] = df[\"original_language\"].cat.add_categories(\"NaN\").fillna(\"NaN\")\n",
    "\n",
    "# Verificar el tipo de datos y la cantidad de datos en la columna \"original_language\" después de la conversión\n",
    "tipo_datos_original_language = df[\"original_language\"].dtype\n",
    "cantidad_datos_original_language = df[\"original_language\"].count()\n",
    "print(\"Tipo de datos en la columna 'original_language' después de la conversión:\", tipo_datos_original_language)\n",
    "print(\"Cantidad de datos en la columna 'original_language' después de la conversión:\", cantidad_datos_original_language)"
   ]
  },
  {
   "attachments": {},
   "cell_type": "markdown",
   "metadata": {},
   "source": [
    "### Revision y conversion de los tipos de datos de la columna \"runtime\""
   ]
  },
  {
   "cell_type": "code",
   "execution_count": 65,
   "metadata": {},
   "outputs": [
    {
     "name": "stdout",
     "output_type": "stream",
     "text": [
      "Tipo de datos en la columna 'runtime' después de la conversión: int32\n",
      "Cantidad de datos en la columna 'runtime': 45463\n"
     ]
    }
   ],
   "source": [
    "# Convertir los datos de la columna \"runtime\" a tipo int64 y reemplazar los valores faltantes o nulos con cero\n",
    "df[\"runtime\"] = df[\"runtime\"].fillna(0).astype(int)\n",
    "\n",
    "# Verificar el tipo de datos y la cantidad de datos en la columna \"runtime\" después de la conversión\n",
    "tipo_datos_runtime = df[\"runtime\"].dtypes\n",
    "cantidad_datos_runtime = df[\"runtime\"].count()\n",
    "\n",
    "print(\"Tipo de datos en la columna 'runtime' después de la conversión:\", tipo_datos_runtime)\n",
    "print(\"Cantidad de datos en la columna 'runtime':\", cantidad_datos_runtime)"
   ]
  },
  {
   "cell_type": "code",
   "execution_count": 66,
   "metadata": {},
   "outputs": [],
   "source": [
    "# # Guardar los cambios en el archivo CSV\n",
    "# ruta_archivo = \"../movie_details.csv\"\n",
    "# df.to_csv(ruta_archivo, index=False)"
   ]
  },
  {
   "attachments": {},
   "cell_type": "markdown",
   "metadata": {},
   "source": [
    "La columna \"id\" actualmente se encuentra como tipo float64. Si el propósito de esta columna es representar identificadores únicos, puede ser más apropiado cambiar el tipo de dato a int64.\n",
    "\n",
    "La columna \"original_language\" actualmente se encuentra como tipo object. Si los valores en esta columna representan códigos de lenguaje estándar, podría ser beneficioso cambiar el tipo de dato a categoría (categorical) para mejorar el rendimiento y la eficiencia de la manipulación de los datos.\n",
    "\n",
    "La columna \"runtime\" actualmente se encuentra como tipo float64. Si los valores en esta columna representan la duración de las películas, el tipo de dato float64 es adecuado. Sin embargo, si deseas trabajar con valores enteros, puedes considerar cambiar el tipo de dato a int64.\n",
    "\n",
    "Las columnas \"budget\" y \"revenue\" actualmente se encuentran como tipo float64. Si los valores en estas columnas representan cantidades monetarias, el tipo de dato float64 es apropiado para representar decimales. Sin embargo, si no hay necesidad de precisión decimal, puedes cambiar el tipo de dato a int64 si los valores son enteros.\n",
    "\n",
    "Las columnas \"homepage\" y \"tagline\" actualmente se encuentran como tipo object. Si estos valores representan enlaces a sitios web y líneas de etiqueta respectivamente, el tipo de dato object es adecuado. Sin embargo, si deseas realizar operaciones específicas en los enlaces, como extraer información o verificar su validez, puedes considerar utilizar tipos de dato especializados como URL o realizar transformaciones adicionales en los datos."
   ]
  }
 ],
 "metadata": {
  "kernelspec": {
   "display_name": "Python 3",
   "language": "python",
   "name": "python3"
  },
  "language_info": {
   "codemirror_mode": {
    "name": "ipython",
    "version": 3
   },
   "file_extension": ".py",
   "mimetype": "text/x-python",
   "name": "python",
   "nbconvert_exporter": "python",
   "pygments_lexer": "ipython3",
   "version": "3.11.2"
  },
  "orig_nbformat": 4
 },
 "nbformat": 4,
 "nbformat_minor": 2
}
