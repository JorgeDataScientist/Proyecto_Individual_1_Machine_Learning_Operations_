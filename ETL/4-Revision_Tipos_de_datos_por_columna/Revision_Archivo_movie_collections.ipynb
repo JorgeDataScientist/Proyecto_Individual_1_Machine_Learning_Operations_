{
 "cells": [
  {
   "cell_type": "code",
   "execution_count": 83,
   "metadata": {},
   "outputs": [],
   "source": [
    "# Importar librerías\n",
    "import pandas as pd\n",
    "import numpy as np\n",
    "import json"
   ]
  },
  {
   "cell_type": "code",
   "execution_count": 84,
   "metadata": {},
   "outputs": [],
   "source": [
    "# Lee el archivo CSV \"movie_details.csv\" donde se encuentran las columnas\n",
    "df = pd.read_csv(\"../movie_collections.csv\")"
   ]
  },
  {
   "cell_type": "markdown",
   "metadata": {},
   "source": [
    "### Listar las Columnas del DataSets"
   ]
  },
  {
   "cell_type": "code",
   "execution_count": 85,
   "metadata": {},
   "outputs": [
    {
     "name": "stdout",
     "output_type": "stream",
     "text": [
      "['id', 'id_btc', 'name_btc', 'poster_btc', 'backdrop_btc']\n",
      "5\n"
     ]
    }
   ],
   "source": [
    "columnas_disponibles = df.columns.tolist()\n",
    "print(columnas_disponibles)\n",
    "print(len(columnas_disponibles))"
   ]
  },
  {
   "cell_type": "code",
   "execution_count": 86,
   "metadata": {},
   "outputs": [
    {
     "data": {
      "text/html": [
       "<div>\n",
       "<style scoped>\n",
       "    .dataframe tbody tr th:only-of-type {\n",
       "        vertical-align: middle;\n",
       "    }\n",
       "\n",
       "    .dataframe tbody tr th {\n",
       "        vertical-align: top;\n",
       "    }\n",
       "\n",
       "    .dataframe thead th {\n",
       "        text-align: right;\n",
       "    }\n",
       "</style>\n",
       "<table border=\"1\" class=\"dataframe\">\n",
       "  <thead>\n",
       "    <tr style=\"text-align: right;\">\n",
       "      <th></th>\n",
       "      <th>id</th>\n",
       "      <th>id_btc</th>\n",
       "      <th>name_btc</th>\n",
       "      <th>poster_btc</th>\n",
       "      <th>backdrop_btc</th>\n",
       "    </tr>\n",
       "  </thead>\n",
       "  <tbody>\n",
       "    <tr>\n",
       "      <th>0</th>\n",
       "      <td>862</td>\n",
       "      <td>10194.0</td>\n",
       "      <td>Toy Story Collection</td>\n",
       "      <td>/7G9915LfUQ2lVfwMEEhDsn3kT4B.jpg</td>\n",
       "      <td>/9FBwqcd9IRruEDUrTdcaafOMKUq.jpg</td>\n",
       "    </tr>\n",
       "    <tr>\n",
       "      <th>1</th>\n",
       "      <td>8844</td>\n",
       "      <td>NaN</td>\n",
       "      <td>NaN</td>\n",
       "      <td>NaN</td>\n",
       "      <td>NaN</td>\n",
       "    </tr>\n",
       "    <tr>\n",
       "      <th>2</th>\n",
       "      <td>15602</td>\n",
       "      <td>119050.0</td>\n",
       "      <td>Grumpy Old Men Collection</td>\n",
       "      <td>/nLvUdqgPgm3F85NMCii9gVFUcet.jpg</td>\n",
       "      <td>/hypTnLot2z8wpFS7qwsQHW1uV8u.jpg</td>\n",
       "    </tr>\n",
       "  </tbody>\n",
       "</table>\n",
       "</div>"
      ],
      "text/plain": [
       "      id    id_btc                   name_btc  \\\n",
       "0    862   10194.0       Toy Story Collection   \n",
       "1   8844       NaN                        NaN   \n",
       "2  15602  119050.0  Grumpy Old Men Collection   \n",
       "\n",
       "                         poster_btc                      backdrop_btc  \n",
       "0  /7G9915LfUQ2lVfwMEEhDsn3kT4B.jpg  /9FBwqcd9IRruEDUrTdcaafOMKUq.jpg  \n",
       "1                               NaN                               NaN  \n",
       "2  /nLvUdqgPgm3F85NMCii9gVFUcet.jpg  /hypTnLot2z8wpFS7qwsQHW1uV8u.jpg  "
      ]
     },
     "execution_count": 86,
     "metadata": {},
     "output_type": "execute_result"
    }
   ],
   "source": [
    "# Imprime los primeros 3 registros del DataFrame\n",
    "df.head(3)"
   ]
  },
  {
   "cell_type": "markdown",
   "metadata": {},
   "source": [
    "### Verificar los tipo de datos que hay en cada columna"
   ]
  },
  {
   "cell_type": "code",
   "execution_count": 87,
   "metadata": {},
   "outputs": [
    {
     "name": "stdout",
     "output_type": "stream",
     "text": [
      "id                int64\n",
      "id_btc          float64\n",
      "name_btc         object\n",
      "poster_btc       object\n",
      "backdrop_btc     object\n",
      "dtype: object\n"
     ]
    }
   ],
   "source": [
    "# Verificar el tipo de datos de cada columna\n",
    "tipos_de_datos = df.dtypes\n",
    "\n",
    "# Mostrar los tipos de datos de cada columna\n",
    "print(tipos_de_datos)"
   ]
  },
  {
   "attachments": {},
   "cell_type": "markdown",
   "metadata": {},
   "source": [
    "### Revision y conversion de los tipos de datos de la columna \"id\""
   ]
  },
  {
   "cell_type": "code",
   "execution_count": 88,
   "metadata": {},
   "outputs": [
    {
     "name": "stdout",
     "output_type": "stream",
     "text": [
      "Tipo de datos en la columna 'id' después de la conversión: int32\n",
      "Cantidad de datos en la columna 'id': 45463\n"
     ]
    }
   ],
   "source": [
    "# Convertir los datos de la columna \"id\" a tipo int64\n",
    "df[\"id\"] = pd.to_numeric(df[\"id\"], errors='coerce')\n",
    "\n",
    "# Eliminar las filas con valores faltantes en la columna \"id\"\n",
    "df = df.dropna(subset=[\"id\"])\n",
    "\n",
    "# Convertir los datos de la columna \"id\" a tipo int64\n",
    "df[\"id\"] = df[\"id\"].astype(int)\n",
    "\n",
    "# Verificar el tipo de datos en la columna \"id\" después de la conversión\n",
    "tipo_datos_id = df[\"id\"].dtypes\n",
    "print(\"Tipo de datos en la columna 'id' después de la conversión:\", tipo_datos_id)\n",
    "\n",
    "# Imprimir la cantidad de datos en la columna \"id\"\n",
    "cantidad_datos_id = len(df[\"id\"])\n",
    "print(\"Cantidad de datos en la columna 'id':\", cantidad_datos_id)"
   ]
  },
  {
   "attachments": {},
   "cell_type": "markdown",
   "metadata": {},
   "source": [
    "### Revision y conversion de los tipos de datos de la columna \"id_btc\""
   ]
  },
  {
   "cell_type": "code",
   "execution_count": 89,
   "metadata": {},
   "outputs": [
    {
     "name": "stdout",
     "output_type": "stream",
     "text": [
      "Tipo de datos en la columna 'id_btc' después de la conversión: Int64\n",
      "Cantidad de datos en la columna 'id_btc': 45463\n"
     ]
    }
   ],
   "source": [
    "# Convertir los datos de la columna \"id_btc\" a tipo float64\n",
    "df[\"id_btc\"] = pd.to_numeric(df[\"id_btc\"], errors='coerce')\n",
    "\n",
    "# Convertir los valores nulos a tipo int64\n",
    "df[\"id_btc\"] = df[\"id_btc\"].astype(\"Int64\")\n",
    "\n",
    "# Verificar el tipo de datos en la columna \"id_btc\" después de la conversión\n",
    "tipo_datos_id = df[\"id_btc\"].dtypes\n",
    "print(\"Tipo de datos en la columna 'id_btc' después de la conversión:\", tipo_datos_id)\n",
    "\n",
    "# Imprimir la cantidad de datos en la columna \"id_btc\"\n",
    "cantidad_datos_id = len(df[\"id_btc\"])\n",
    "print(\"Cantidad de datos en la columna 'id_btc':\", cantidad_datos_id)\n"
   ]
  },
  {
   "cell_type": "code",
   "execution_count": 90,
   "metadata": {},
   "outputs": [],
   "source": [
    "# # Guardar los cambios en el archivo CSV\n",
    "# ruta_archivo = \"../movie_collections.csv\"\n",
    "# df.to_csv(ruta_archivo, index=False)"
   ]
  }
 ],
 "metadata": {
  "kernelspec": {
   "display_name": "Python 3",
   "language": "python",
   "name": "python3"
  },
  "language_info": {
   "codemirror_mode": {
    "name": "ipython",
    "version": 3
   },
   "file_extension": ".py",
   "mimetype": "text/x-python",
   "name": "python",
   "nbconvert_exporter": "python",
   "pygments_lexer": "ipython3",
   "version": "3.11.2"
  },
  "orig_nbformat": 4
 },
 "nbformat": 4,
 "nbformat_minor": 2
}
