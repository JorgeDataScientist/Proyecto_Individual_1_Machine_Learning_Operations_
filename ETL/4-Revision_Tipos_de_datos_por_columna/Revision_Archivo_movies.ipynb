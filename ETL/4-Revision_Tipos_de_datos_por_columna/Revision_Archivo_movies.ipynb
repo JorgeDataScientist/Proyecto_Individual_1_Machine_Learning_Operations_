{
 "cells": [
  {
   "cell_type": "code",
   "execution_count": 19,
   "metadata": {},
   "outputs": [],
   "source": [
    "# Importar librerías\n",
    "import pandas as pd\n",
    "import numpy as np"
   ]
  },
  {
   "cell_type": "code",
   "execution_count": 20,
   "metadata": {},
   "outputs": [],
   "source": [
    "# Lee el archivo CSV \"movie_details.csv\" donde se encuentran las columnas\n",
    "df = pd.read_csv(\"../movies.csv\")"
   ]
  },
  {
   "cell_type": "code",
   "execution_count": 21,
   "metadata": {},
   "outputs": [
    {
     "data": {
      "text/plain": [
       "(45346, 13)"
      ]
     },
     "execution_count": 21,
     "metadata": {},
     "output_type": "execute_result"
    }
   ],
   "source": [
    "# Dimenciones del dataSet\n",
    "df.shape"
   ]
  },
  {
   "attachments": {},
   "cell_type": "markdown",
   "metadata": {},
   "source": [
    "### Listar las Columnas del DataSets"
   ]
  },
  {
   "cell_type": "code",
   "execution_count": 22,
   "metadata": {},
   "outputs": [
    {
     "name": "stdout",
     "output_type": "stream",
     "text": [
      "['id', 'title', 'original_title', 'overview', 'popularity', 'release_date', 'vote_average', 'vote_count', 'adult', 'imdb_id', 'poster_path', 'status', 'video']\n",
      "13\n"
     ]
    }
   ],
   "source": [
    "columnas_disponibles = df.columns.tolist()\n",
    "print(columnas_disponibles)\n",
    "print(len(columnas_disponibles))"
   ]
  },
  {
   "cell_type": "code",
   "execution_count": 23,
   "metadata": {},
   "outputs": [
    {
     "data": {
      "text/html": [
       "<div>\n",
       "<style scoped>\n",
       "    .dataframe tbody tr th:only-of-type {\n",
       "        vertical-align: middle;\n",
       "    }\n",
       "\n",
       "    .dataframe tbody tr th {\n",
       "        vertical-align: top;\n",
       "    }\n",
       "\n",
       "    .dataframe thead th {\n",
       "        text-align: right;\n",
       "    }\n",
       "</style>\n",
       "<table border=\"1\" class=\"dataframe\">\n",
       "  <thead>\n",
       "    <tr style=\"text-align: right;\">\n",
       "      <th></th>\n",
       "      <th>id</th>\n",
       "      <th>title</th>\n",
       "      <th>original_title</th>\n",
       "      <th>overview</th>\n",
       "      <th>popularity</th>\n",
       "      <th>release_date</th>\n",
       "      <th>vote_average</th>\n",
       "      <th>vote_count</th>\n",
       "      <th>adult</th>\n",
       "      <th>imdb_id</th>\n",
       "      <th>poster_path</th>\n",
       "      <th>status</th>\n",
       "      <th>video</th>\n",
       "    </tr>\n",
       "  </thead>\n",
       "  <tbody>\n",
       "    <tr>\n",
       "      <th>0</th>\n",
       "      <td>862</td>\n",
       "      <td>Toy story</td>\n",
       "      <td>Toy Story</td>\n",
       "      <td>Led by Woody, Andy's toys live happily in his ...</td>\n",
       "      <td>21.946943</td>\n",
       "      <td>1995-10-30</td>\n",
       "      <td>7.7</td>\n",
       "      <td>5415.0</td>\n",
       "      <td>True</td>\n",
       "      <td>tt0114709</td>\n",
       "      <td>/rhIRbceoE9lR4veEXuwCC2wARtG.jpg</td>\n",
       "      <td>Released</td>\n",
       "      <td>False</td>\n",
       "    </tr>\n",
       "    <tr>\n",
       "      <th>1</th>\n",
       "      <td>8844</td>\n",
       "      <td>Jumanji</td>\n",
       "      <td>Jumanji</td>\n",
       "      <td>When siblings Judy and Peter discover an encha...</td>\n",
       "      <td>17.015539</td>\n",
       "      <td>1995-12-15</td>\n",
       "      <td>6.9</td>\n",
       "      <td>2413.0</td>\n",
       "      <td>True</td>\n",
       "      <td>tt0113497</td>\n",
       "      <td>/vzmL6fP7aPKNKPRTFnZmiUfciyV.jpg</td>\n",
       "      <td>Released</td>\n",
       "      <td>False</td>\n",
       "    </tr>\n",
       "    <tr>\n",
       "      <th>2</th>\n",
       "      <td>15602</td>\n",
       "      <td>Grumpier old men</td>\n",
       "      <td>Grumpier Old Men</td>\n",
       "      <td>A family wedding reignites the ancient feud be...</td>\n",
       "      <td>11.712900</td>\n",
       "      <td>1995-12-22</td>\n",
       "      <td>6.5</td>\n",
       "      <td>92.0</td>\n",
       "      <td>True</td>\n",
       "      <td>tt0113228</td>\n",
       "      <td>/6ksm1sjKMFLbO7UY2i6G1ju9SML.jpg</td>\n",
       "      <td>Released</td>\n",
       "      <td>False</td>\n",
       "    </tr>\n",
       "  </tbody>\n",
       "</table>\n",
       "</div>"
      ],
      "text/plain": [
       "      id             title    original_title  \\\n",
       "0    862         Toy story         Toy Story   \n",
       "1   8844           Jumanji           Jumanji   \n",
       "2  15602  Grumpier old men  Grumpier Old Men   \n",
       "\n",
       "                                            overview  popularity release_date  \\\n",
       "0  Led by Woody, Andy's toys live happily in his ...   21.946943   1995-10-30   \n",
       "1  When siblings Judy and Peter discover an encha...   17.015539   1995-12-15   \n",
       "2  A family wedding reignites the ancient feud be...   11.712900   1995-12-22   \n",
       "\n",
       "   vote_average  vote_count  adult    imdb_id  \\\n",
       "0           7.7      5415.0   True  tt0114709   \n",
       "1           6.9      2413.0   True  tt0113497   \n",
       "2           6.5        92.0   True  tt0113228   \n",
       "\n",
       "                        poster_path    status  video  \n",
       "0  /rhIRbceoE9lR4veEXuwCC2wARtG.jpg  Released  False  \n",
       "1  /vzmL6fP7aPKNKPRTFnZmiUfciyV.jpg  Released  False  \n",
       "2  /6ksm1sjKMFLbO7UY2i6G1ju9SML.jpg  Released  False  "
      ]
     },
     "execution_count": 23,
     "metadata": {},
     "output_type": "execute_result"
    }
   ],
   "source": [
    "# Imprime los primeros 3 registros del DataFrame\n",
    "df.head(3)"
   ]
  },
  {
   "attachments": {},
   "cell_type": "markdown",
   "metadata": {},
   "source": [
    "### Verificar los tipo de datos que hay en cada columna"
   ]
  },
  {
   "cell_type": "code",
   "execution_count": 24,
   "metadata": {},
   "outputs": [
    {
     "name": "stdout",
     "output_type": "stream",
     "text": [
      "id                  int64\n",
      "title              object\n",
      "original_title     object\n",
      "overview           object\n",
      "popularity        float64\n",
      "release_date       object\n",
      "vote_average      float64\n",
      "vote_count        float64\n",
      "adult                bool\n",
      "imdb_id            object\n",
      "poster_path        object\n",
      "status             object\n",
      "video                bool\n",
      "dtype: object\n"
     ]
    }
   ],
   "source": [
    "# Verificar el tipo de datos de cada columna\n",
    "tipos_de_datos = df.dtypes\n",
    "\n",
    "# Mostrar los tipos de datos de cada columna\n",
    "print(tipos_de_datos)"
   ]
  },
  {
   "attachments": {},
   "cell_type": "markdown",
   "metadata": {},
   "source": [
    "### Revision y conversion de los tipos de datos de la columna \"id\""
   ]
  },
  {
   "cell_type": "code",
   "execution_count": 25,
   "metadata": {},
   "outputs": [
    {
     "name": "stdout",
     "output_type": "stream",
     "text": [
      "Tipo de datos en la columna 'id' después de la conversión: int32\n",
      "Cantidad de datos en la columna 'id': 45346\n"
     ]
    }
   ],
   "source": [
    "# Convertir los datos de la columna \"id\" a tipo int64\n",
    "df[\"id\"] = pd.to_numeric(df[\"id\"], errors='coerce')\n",
    "\n",
    "# Eliminar las filas con valores faltantes en la columna \"id\"\n",
    "df = df.dropna(subset=[\"id\"])\n",
    "\n",
    "# Convertir los datos de la columna \"id\" a tipo int64\n",
    "df[\"id\"] = df[\"id\"].astype(int)\n",
    "\n",
    "# Verificar el tipo de datos en la columna \"id\" después de la conversión\n",
    "tipo_datos_id = df[\"id\"].dtypes\n",
    "print(\"Tipo de datos en la columna 'id' después de la conversión:\", tipo_datos_id)\n",
    "\n",
    "# Imprimir la cantidad de datos en la columna \"id\"\n",
    "cantidad_datos_id = len(df[\"id\"])\n",
    "print(\"Cantidad de datos en la columna 'id':\", cantidad_datos_id)"
   ]
  },
  {
   "attachments": {},
   "cell_type": "markdown",
   "metadata": {},
   "source": [
    "### Revision y conversion de los tipos de datos de la columna \"overview\""
   ]
  },
  {
   "cell_type": "code",
   "execution_count": 26,
   "metadata": {},
   "outputs": [
    {
     "name": "stdout",
     "output_type": "stream",
     "text": [
      "Tipo de datos en la columna 'overview' después de la conversión: object\n",
      "Cantidad de datos en la columna 'overview': 45346\n"
     ]
    }
   ],
   "source": [
    "# Convertir los datos de la columna \"overview\" a tipo str\n",
    "df[\"overview\"] = df[\"overview\"].astype(str)\n",
    "\n",
    "# Reemplazar valores faltantes o nulos por NaN\n",
    "df[\"overview\"].replace(\"\", np.nan, inplace=True)\n",
    "\n",
    "# Verificar el tipo de datos de la columna \"overview\" después de la conversión\n",
    "tipo_datos_overview = df[\"overview\"].dtypes\n",
    "print(\"Tipo de datos en la columna 'overview' después de la conversión:\", tipo_datos_overview)\n",
    "\n",
    "# Imprimir la cantidad de datos en la columna \"id\"\n",
    "tipo_datos_overview = len(df[\"overview\"])\n",
    "print(\"Cantidad de datos en la columna 'overview':\", tipo_datos_overview)"
   ]
  },
  {
   "attachments": {},
   "cell_type": "markdown",
   "metadata": {},
   "source": [
    "### Revision y conversion de los tipos de datos de la columna \"popularity\""
   ]
  },
  {
   "cell_type": "code",
   "execution_count": 27,
   "metadata": {},
   "outputs": [
    {
     "name": "stdout",
     "output_type": "stream",
     "text": [
      "Tipo de datos en la columna 'popularity' después de la conversión: float64\n",
      "Cantidad de datos en la columna 'popularity': 45346\n"
     ]
    }
   ],
   "source": [
    "df[\"popularity\"] = df[\"popularity\"].fillna(0).astype(float)\n",
    "\n",
    "tipo_datos_popularity = df[\"popularity\"].dtypes\n",
    "cantidad_datos_popularity = len(df[\"popularity\"])\n",
    "\n",
    "print(\"Tipo de datos en la columna 'popularity' después de la conversión:\", tipo_datos_popularity)\n",
    "print(\"Cantidad de datos en la columna 'popularity':\", cantidad_datos_popularity)"
   ]
  },
  {
   "attachments": {},
   "cell_type": "markdown",
   "metadata": {},
   "source": [
    "### Revision y conversion de los tipos de datos de la columna \"release_date\""
   ]
  },
  {
   "cell_type": "code",
   "execution_count": 28,
   "metadata": {},
   "outputs": [
    {
     "name": "stdout",
     "output_type": "stream",
     "text": [
      "Tipo de datos en la columna 'release_date' después de la conversión: object\n",
      "Cantidad de datos en la columna 'release_date': 45346\n"
     ]
    }
   ],
   "source": [
    "# Convertir los datos de la columna \"release_date\" a tipo datetime\n",
    "df[\"release_date\"] = pd.to_datetime(df[\"release_date\"], errors=\"coerce\")\n",
    "\n",
    "# Eliminar la sección de tiempo y fracciones de segundo\n",
    "df[\"release_date\"] = df[\"release_date\"].dt.date\n",
    "\n",
    "# Verificar el tipo de datos de la columna \"release_date\" después de la conversión\n",
    "tipo_datos_release_date = df[\"release_date\"].dtypes\n",
    "cantidad_datos_release_date = len(df[\"release_date\"])\n",
    "\n",
    "print(\"Tipo de datos en la columna 'release_date' después de la conversión:\", tipo_datos_release_date)\n",
    "print(\"Cantidad de datos en la columna 'release_date':\", cantidad_datos_release_date)"
   ]
  },
  {
   "attachments": {},
   "cell_type": "markdown",
   "metadata": {},
   "source": [
    "### Revision y conversion de los tipos de datos de la columna \"adult\""
   ]
  },
  {
   "cell_type": "code",
   "execution_count": 29,
   "metadata": {},
   "outputs": [
    {
     "name": "stdout",
     "output_type": "stream",
     "text": [
      "Tipo de datos en la columna 'adult' después de la conversión: bool\n",
      "Cantidad de datos en la columna 'adult': 45346\n"
     ]
    }
   ],
   "source": [
    "# Convertir los datos de la columna \"adult\" a tipo booleano\n",
    "df[\"adult\"] = df[\"adult\"].replace({\"0\": False, \"1\": True}).astype(bool)\n",
    "\n",
    "# Convertir valores faltantes o nulos a NaN\n",
    "df[\"adult\"] = df[\"adult\"].replace(\"\", np.nan)\n",
    "\n",
    "# Verificar el tipo de datos de la columna \"adult\" después de la conversión\n",
    "tipo_datos_adult = df[\"adult\"].dtypes\n",
    "\n",
    "# Obtener la cantidad de datos en la columna \"adult\"\n",
    "cantidad_datos_adult = df[\"adult\"].shape[0]\n",
    "\n",
    "print(\"Tipo de datos en la columna 'adult' después de la conversión:\", tipo_datos_adult)\n",
    "print(\"Cantidad de datos en la columna 'adult':\", cantidad_datos_adult)"
   ]
  },
  {
   "attachments": {},
   "cell_type": "markdown",
   "metadata": {},
   "source": [
    "### Revision y conversion de los tipos de datos de la columna \"video\""
   ]
  },
  {
   "cell_type": "code",
   "execution_count": 30,
   "metadata": {},
   "outputs": [
    {
     "name": "stdout",
     "output_type": "stream",
     "text": [
      "Tipo de datos en la columna 'video' después de la conversión: bool\n",
      "Cantidad de datos en la columna 'video': 45346\n"
     ]
    }
   ],
   "source": [
    "# Convertir los datos de la columna \"video\" a tipo booleano\n",
    "df[\"video\"] = df[\"video\"].replace({0: False, 1: True}).astype(bool)\n",
    "\n",
    "# Convertir valores faltantes o nulos a NaN\n",
    "df[\"video\"] = df[\"video\"].replace(\"\", np.nan)\n",
    "\n",
    "# Verificar el tipo de datos de la columna \"video\" después de la conversión\n",
    "tipo_datos_video = df[\"video\"].dtypes\n",
    "\n",
    "# Obtener la cantidad de datos en la columna \"video\"\n",
    "cantidad_datos_video = df[\"video\"].shape[0]\n",
    "\n",
    "print(\"Tipo de datos en la columna 'video' después de la conversión:\", tipo_datos_video)\n",
    "print(\"Cantidad de datos en la columna 'video':\", cantidad_datos_video)"
   ]
  },
  {
   "cell_type": "code",
   "execution_count": 31,
   "metadata": {},
   "outputs": [
    {
     "data": {
      "text/plain": [
       "(45346, 13)"
      ]
     },
     "execution_count": 31,
     "metadata": {},
     "output_type": "execute_result"
    }
   ],
   "source": [
    "# Dimenciones del dataSet\n",
    "df.shape"
   ]
  },
  {
   "attachments": {},
   "cell_type": "markdown",
   "metadata": {},
   "source": [
    "### *Revisando columna 'release_date'*"
   ]
  },
  {
   "cell_type": "code",
   "execution_count": 32,
   "metadata": {},
   "outputs": [
    {
     "name": "stdout",
     "output_type": "stream",
     "text": [
      "object\n"
     ]
    }
   ],
   "source": [
    "# Obtener los tipos de datos de una columna específica\n",
    "tipos_datos = df['release_date'].dtypes\n",
    "\n",
    "# Imprimir los tipos de datos\n",
    "print(tipos_datos)"
   ]
  },
  {
   "cell_type": "code",
   "execution_count": 37,
   "metadata": {},
   "outputs": [
    {
     "name": "stdout",
     "output_type": "stream",
     "text": [
      "datetime64[ns]\n"
     ]
    }
   ],
   "source": [
    "# Convertir la columna \"release_date\" en datetime\n",
    "df['release_date'] = pd.to_datetime(df['release_date'])\n",
    "\n",
    "# Imprimir el tipo de dato resultante\n",
    "print(df['release_date'].dtypes)"
   ]
  },
  {
   "cell_type": "code",
   "execution_count": 34,
   "metadata": {},
   "outputs": [],
   "source": [
    "# Eliminar las filas con valores vacíos en la columna \"release_date\"\n",
    "df = df.dropna(subset=['release_date'])"
   ]
  },
  {
   "attachments": {},
   "cell_type": "markdown",
   "metadata": {},
   "source": [
    "### *Revisando columna 'adult'*"
   ]
  },
  {
   "cell_type": "code",
   "execution_count": 35,
   "metadata": {},
   "outputs": [
    {
     "name": "stdout",
     "output_type": "stream",
     "text": [
      "bool\n"
     ]
    }
   ],
   "source": [
    "# Obtener el tipo de datos de la columna \"adult\"\n",
    "tipo_dato = df['adult'].dtype\n",
    "\n",
    "# Imprimir el tipo de datos\n",
    "print(tipo_dato)"
   ]
  },
  {
   "cell_type": "code",
   "execution_count": 36,
   "metadata": {},
   "outputs": [],
   "source": [
    "# # Guardar los cambios en el archivo CSV\n",
    "# ruta_archivo = \"../movies.csv\"\n",
    "# df.to_csv(ruta_archivo, index=False)"
   ]
  },
  {
   "attachments": {},
   "cell_type": "markdown",
   "metadata": {},
   "source": [
    "Popularidad (popularity): El campo de popularidad parece ser representado como una cadena de texto (\"object\"). Si planeas realizar operaciones matemáticas o comparaciones con la popularidad, puede ser más adecuado convertirlo a un tipo de dato numérico, como \"float\" o \"int\".\n",
    "\n",
    "Fecha de lanzamiento (release_date): Actualmente se representa como una cadena de texto (\"object\"). Si planeas realizar operaciones de filtrado o cálculos basados en la fecha de lanzamiento, podría ser beneficioso convertirlo al tipo de dato \"datetime\" para facilitar el manejo de fechas.\n",
    "\n",
    "Votos promedio y conteo de votos (vote_average y vote_count): Los tipos de dato \"float64\" son apropiados para estos campos, ya que representan valores decimales y numéricos.\n",
    "\n",
    "Adulto (adult): Si el campo \"adult\" representa un valor booleano, donde \"True\" indica contenido para adultos y \"False\" indica contenido no para adultos, puedes convertirlo al tipo de dato booleano (\"bool\") en lugar de una cadena de texto.\n",
    "\n",
    "IMDb ID (imdb_id): Si el campo IMDb ID es una identificación única y no se realizarán operaciones matemáticas o cálculos con él, el tipo de dato \"object\" es apropiado. Sin embargo, si planeas realizar búsquedas o consultas basadas en el IMDb ID, podrías considerar convertirlo a un tipo de dato numérico, como \"int\" o \"float\".\n",
    "\n",
    "Ruta del póster (poster_path): Si el campo de la ruta del póster es una cadena de texto que representa una ubicación de archivo, el tipo de dato \"object\" es apropiado para mantenerlo como una cadena de texto.\n",
    "\n",
    "Estado (status): Si el campo de estado representa diferentes estados en formato de cadena de texto, el tipo de dato \"object\" es adecuado para mantenerlo como una cadena de texto.\n",
    "\n",
    "Video (video): Si el campo de video representa un valor booleano, donde \"True\" indica la presencia de un video y \"False\" indica la ausencia de un video, puedes convertirlo al tipo de dato booleano (\"bool\") en lugar de un valor numérico."
   ]
  }
 ],
 "metadata": {
  "kernelspec": {
   "display_name": "Python 3",
   "language": "python",
   "name": "python3"
  },
  "language_info": {
   "codemirror_mode": {
    "name": "ipython",
    "version": 3
   },
   "file_extension": ".py",
   "mimetype": "text/x-python",
   "name": "python",
   "nbconvert_exporter": "python",
   "pygments_lexer": "ipython3",
   "version": "3.11.2"
  },
  "orig_nbformat": 4
 },
 "nbformat": 4,
 "nbformat_minor": 2
}
