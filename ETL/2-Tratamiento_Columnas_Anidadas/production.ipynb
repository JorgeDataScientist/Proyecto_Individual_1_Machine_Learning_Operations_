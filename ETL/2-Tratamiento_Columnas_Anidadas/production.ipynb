{
 "cells": [
  {
   "cell_type": "code",
   "execution_count": 1,
   "metadata": {},
   "outputs": [],
   "source": [
    "# Importar librerías\n",
    "import pandas as pd\n",
    "from pandas import json_normalize\n",
    "import json\n",
    "import numpy as np"
   ]
  },
  {
   "cell_type": "code",
   "execution_count": 2,
   "metadata": {},
   "outputs": [
    {
     "data": {
      "text/html": [
       "<div>\n",
       "<style scoped>\n",
       "    .dataframe tbody tr th:only-of-type {\n",
       "        vertical-align: middle;\n",
       "    }\n",
       "\n",
       "    .dataframe tbody tr th {\n",
       "        vertical-align: top;\n",
       "    }\n",
       "\n",
       "    .dataframe thead th {\n",
       "        text-align: right;\n",
       "    }\n",
       "</style>\n",
       "<table border=\"1\" class=\"dataframe\">\n",
       "  <thead>\n",
       "    <tr style=\"text-align: right;\">\n",
       "      <th></th>\n",
       "      <th>id</th>\n",
       "      <th>production_companies</th>\n",
       "      <th>production_countries</th>\n",
       "    </tr>\n",
       "  </thead>\n",
       "  <tbody>\n",
       "    <tr>\n",
       "      <th>0</th>\n",
       "      <td>862</td>\n",
       "      <td>[{\"name\": \"Pixar Animation Studios\", \"id\": 3}]</td>\n",
       "      <td>[{\"iso_3166_1\": \"US\", \"name\": \"United States o...</td>\n",
       "    </tr>\n",
       "    <tr>\n",
       "      <th>1</th>\n",
       "      <td>8844</td>\n",
       "      <td>[{\"name\": \"TriStar Pictures\", \"id\": 559}, {\"na...</td>\n",
       "      <td>[{\"iso_3166_1\": \"US\", \"name\": \"United States o...</td>\n",
       "    </tr>\n",
       "    <tr>\n",
       "      <th>2</th>\n",
       "      <td>15602</td>\n",
       "      <td>[{\"name\": \"Warner Bros.\", \"id\": 6194}, {\"name\"...</td>\n",
       "      <td>[{\"iso_3166_1\": \"US\", \"name\": \"United States o...</td>\n",
       "    </tr>\n",
       "    <tr>\n",
       "      <th>3</th>\n",
       "      <td>31357</td>\n",
       "      <td>[{\"name\": \"Twentieth Century Fox Film Corporat...</td>\n",
       "      <td>[{\"iso_3166_1\": \"US\", \"name\": \"United States o...</td>\n",
       "    </tr>\n",
       "    <tr>\n",
       "      <th>4</th>\n",
       "      <td>11862</td>\n",
       "      <td>[{\"name\": \"Sandollar Productions\", \"id\": 5842}...</td>\n",
       "      <td>[{\"iso_3166_1\": \"US\", \"name\": \"United States o...</td>\n",
       "    </tr>\n",
       "  </tbody>\n",
       "</table>\n",
       "</div>"
      ],
      "text/plain": [
       "      id                               production_companies  \\\n",
       "0    862     [{\"name\": \"Pixar Animation Studios\", \"id\": 3}]   \n",
       "1   8844  [{\"name\": \"TriStar Pictures\", \"id\": 559}, {\"na...   \n",
       "2  15602  [{\"name\": \"Warner Bros.\", \"id\": 6194}, {\"name\"...   \n",
       "3  31357  [{\"name\": \"Twentieth Century Fox Film Corporat...   \n",
       "4  11862  [{\"name\": \"Sandollar Productions\", \"id\": 5842}...   \n",
       "\n",
       "                                production_countries  \n",
       "0  [{\"iso_3166_1\": \"US\", \"name\": \"United States o...  \n",
       "1  [{\"iso_3166_1\": \"US\", \"name\": \"United States o...  \n",
       "2  [{\"iso_3166_1\": \"US\", \"name\": \"United States o...  \n",
       "3  [{\"iso_3166_1\": \"US\", \"name\": \"United States o...  \n",
       "4  [{\"iso_3166_1\": \"US\", \"name\": \"United States o...  "
      ]
     },
     "execution_count": 2,
     "metadata": {},
     "output_type": "execute_result"
    }
   ],
   "source": [
    "# Lee el archivo CSV y lo almacena en un DataFrame de Pandas\n",
    "df = pd.read_csv(\"../production.csv\")\n",
    "df.head()"
   ]
  },
  {
   "cell_type": "code",
   "execution_count": 3,
   "metadata": {},
   "outputs": [
    {
     "data": {
      "text/html": [
       "<div>\n",
       "<style scoped>\n",
       "    .dataframe tbody tr th:only-of-type {\n",
       "        vertical-align: middle;\n",
       "    }\n",
       "\n",
       "    .dataframe tbody tr th {\n",
       "        vertical-align: top;\n",
       "    }\n",
       "\n",
       "    .dataframe thead th {\n",
       "        text-align: right;\n",
       "    }\n",
       "</style>\n",
       "<table border=\"1\" class=\"dataframe\">\n",
       "  <thead>\n",
       "    <tr style=\"text-align: right;\">\n",
       "      <th></th>\n",
       "      <th>id</th>\n",
       "      <th>name</th>\n",
       "    </tr>\n",
       "  </thead>\n",
       "  <tbody>\n",
       "    <tr>\n",
       "      <th>0</th>\n",
       "      <td>3</td>\n",
       "      <td>Pixar Animation Studios</td>\n",
       "    </tr>\n",
       "    <tr>\n",
       "      <th>1</th>\n",
       "      <td>559</td>\n",
       "      <td>TriStar Pictures</td>\n",
       "    </tr>\n",
       "    <tr>\n",
       "      <th>2</th>\n",
       "      <td>2550</td>\n",
       "      <td>Teitler Film</td>\n",
       "    </tr>\n",
       "    <tr>\n",
       "      <th>3</th>\n",
       "      <td>10201</td>\n",
       "      <td>Interscope Communications</td>\n",
       "    </tr>\n",
       "    <tr>\n",
       "      <th>4</th>\n",
       "      <td>6194</td>\n",
       "      <td>Warner Bros.</td>\n",
       "    </tr>\n",
       "  </tbody>\n",
       "</table>\n",
       "</div>"
      ],
      "text/plain": [
       "      id                       name\n",
       "0      3    Pixar Animation Studios\n",
       "1    559           TriStar Pictures\n",
       "2   2550               Teitler Film\n",
       "3  10201  Interscope Communications\n",
       "4   6194               Warner Bros."
      ]
     },
     "execution_count": 3,
     "metadata": {},
     "output_type": "execute_result"
    }
   ],
   "source": [
    "import json\n",
    "import pandas as pd\n",
    "\n",
    "def convertir_columna_diccionarios_a_dataframe(df, columna):\n",
    "    \"\"\"\n",
    "    Convierte una columna que contiene diccionarios en un DataFrame separado.\n",
    "\n",
    "    Args:\n",
    "        df (pandas.DataFrame): DataFrame original.\n",
    "        columna (str): Nombre de la columna que contiene los diccionarios.\n",
    "\n",
    "    Returns:\n",
    "        pandas.DataFrame: DataFrame resultante con los diccionarios separados en columnas.\n",
    "\n",
    "    \"\"\"\n",
    "    def procesar_valor(valor):\n",
    "        \"\"\"\n",
    "        Procesa el valor de una celda de la columna para convertirlo en una lista de diccionarios.\n",
    "\n",
    "        Args:\n",
    "            valor (str): Valor de la celda.\n",
    "\n",
    "        Returns:\n",
    "            list: Lista de diccionarios resultante.\n",
    "\n",
    "        \"\"\"\n",
    "        try:\n",
    "            diccionarios = json.loads(valor)\n",
    "            return diccionarios\n",
    "        except (json.JSONDecodeError, TypeError):\n",
    "            return []\n",
    "\n",
    "    # Obtener una lista de diccionarios a partir de los valores de la columna\n",
    "    diccionarios = df[columna].apply(procesar_valor).tolist()\n",
    "\n",
    "    # Filtrar y aplanar los diccionarios\n",
    "    diccionarios_filtrados = [diccionario for diccionario in diccionarios if isinstance(diccionario, list)]\n",
    "    diccionarios_flattened = [item for sublist in diccionarios_filtrados for item in sublist]\n",
    "\n",
    "    # Crear el DataFrame resultante y seleccionar las columnas deseadas\n",
    "    df_resultado = pd.DataFrame(diccionarios_flattened)\n",
    "    df_resultado = df_resultado[['id', 'name']]\n",
    "\n",
    "    return df_resultado\n",
    "\n",
    "# Aplicar la función al DataFrame y obtener el DataFrame resultante\n",
    "df_resultado = convertir_columna_diccionarios_a_dataframe(df, 'production_companies')\n",
    "\n",
    "# Mostrar las primeras filas del DataFrame resultante\n",
    "df_resultado.head()\n"
   ]
  },
  {
   "cell_type": "code",
   "execution_count": 4,
   "metadata": {},
   "outputs": [],
   "source": [
    "def obtener_nombres(diccionarios):\n",
    "    \"\"\"\n",
    "    Obtiene los nombres de una lista de diccionarios.\n",
    "\n",
    "    Args:\n",
    "        diccionarios (list): Lista de diccionarios.\n",
    "\n",
    "    Returns:\n",
    "        list: Lista de nombres obtenidos de los diccionarios.\n",
    "\n",
    "    \"\"\"\n",
    "    nombres = []\n",
    "    for diccionario in diccionarios:\n",
    "        nombre = diccionario.get('name')\n",
    "        nombres.append(nombre)\n",
    "    return nombres\n"
   ]
  },
  {
   "cell_type": "code",
   "execution_count": 5,
   "metadata": {},
   "outputs": [
    {
     "name": "stdout",
     "output_type": "stream",
     "text": [
      "['TriStar Pictures', 'Teitler Film', 'Interscope Communications']\n"
     ]
    }
   ],
   "source": [
    "result = [{\"name\": \"TriStar Pictures\", \"id\": 559}, {\"name\": \"Teitler Film\", \"id\": 2550}, {\"name\": \"Interscope Communications\", \"id\": 10201}]\n",
    "nombres = obtener_nombres(result)\n",
    "print(nombres)"
   ]
  },
  {
   "cell_type": "code",
   "execution_count": 6,
   "metadata": {},
   "outputs": [],
   "source": [
    "# # guardando solo dos columnas: production_companies\ty production_countries para realizar pruebas\n",
    "# # Obtener las primeras 100 filas de las dos columnas del dataframe\n",
    "# subset_df = df[['production_countries']].head(100)\n",
    "\n",
    "# # Guardar el subset en un archivo XLSX\n",
    "# subset_df.to_excel('subset.xlsx', index=False)"
   ]
  }
 ],
 "metadata": {
  "kernelspec": {
   "display_name": "Python 3",
   "language": "python",
   "name": "python3"
  },
  "language_info": {
   "codemirror_mode": {
    "name": "ipython",
    "version": 3
   },
   "file_extension": ".py",
   "mimetype": "text/x-python",
   "name": "python",
   "nbconvert_exporter": "python",
   "pygments_lexer": "ipython3",
   "version": "3.11.2"
  },
  "orig_nbformat": 4
 },
 "nbformat": 4,
 "nbformat_minor": 2
}
