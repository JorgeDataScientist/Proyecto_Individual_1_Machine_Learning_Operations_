{
 "cells": [
  {
   "attachments": {},
   "cell_type": "markdown",
   "metadata": {},
   "source": [
    "### Desanidar columna \"production_companies\""
   ]
  },
  {
   "cell_type": "code",
   "execution_count": 52,
   "metadata": {},
   "outputs": [],
   "source": [
    "# Importar librerías\n",
    "import pandas as pd\n",
    "import ast\n",
    "import numpy as np"
   ]
  },
  {
   "cell_type": "code",
   "execution_count": 53,
   "metadata": {},
   "outputs": [
    {
     "data": {
      "text/html": [
       "<div>\n",
       "<style scoped>\n",
       "    .dataframe tbody tr th:only-of-type {\n",
       "        vertical-align: middle;\n",
       "    }\n",
       "\n",
       "    .dataframe tbody tr th {\n",
       "        vertical-align: top;\n",
       "    }\n",
       "\n",
       "    .dataframe thead th {\n",
       "        text-align: right;\n",
       "    }\n",
       "</style>\n",
       "<table border=\"1\" class=\"dataframe\">\n",
       "  <thead>\n",
       "    <tr style=\"text-align: right;\">\n",
       "      <th></th>\n",
       "      <th>id</th>\n",
       "      <th>production_companies</th>\n",
       "      <th>production_countries</th>\n",
       "    </tr>\n",
       "  </thead>\n",
       "  <tbody>\n",
       "    <tr>\n",
       "      <th>0</th>\n",
       "      <td>862</td>\n",
       "      <td>[{\"name\": \"Pixar Animation Studios\", \"id\": 3}]</td>\n",
       "      <td>[{\"iso_3166_1\": \"US\", \"name\": \"United States o...</td>\n",
       "    </tr>\n",
       "    <tr>\n",
       "      <th>1</th>\n",
       "      <td>8844</td>\n",
       "      <td>[{\"name\": \"TriStar Pictures\", \"id\": 559}, {\"na...</td>\n",
       "      <td>[{\"iso_3166_1\": \"US\", \"name\": \"United States o...</td>\n",
       "    </tr>\n",
       "    <tr>\n",
       "      <th>2</th>\n",
       "      <td>15602</td>\n",
       "      <td>[{\"name\": \"Warner Bros.\", \"id\": 6194}, {\"name\"...</td>\n",
       "      <td>[{\"iso_3166_1\": \"US\", \"name\": \"United States o...</td>\n",
       "    </tr>\n",
       "    <tr>\n",
       "      <th>3</th>\n",
       "      <td>31357</td>\n",
       "      <td>[{\"name\": \"Twentieth Century Fox Film Corporat...</td>\n",
       "      <td>[{\"iso_3166_1\": \"US\", \"name\": \"United States o...</td>\n",
       "    </tr>\n",
       "    <tr>\n",
       "      <th>4</th>\n",
       "      <td>11862</td>\n",
       "      <td>[{\"name\": \"Sandollar Productions\", \"id\": 5842}...</td>\n",
       "      <td>[{\"iso_3166_1\": \"US\", \"name\": \"United States o...</td>\n",
       "    </tr>\n",
       "  </tbody>\n",
       "</table>\n",
       "</div>"
      ],
      "text/plain": [
       "      id                               production_companies  \\\n",
       "0    862     [{\"name\": \"Pixar Animation Studios\", \"id\": 3}]   \n",
       "1   8844  [{\"name\": \"TriStar Pictures\", \"id\": 559}, {\"na...   \n",
       "2  15602  [{\"name\": \"Warner Bros.\", \"id\": 6194}, {\"name\"...   \n",
       "3  31357  [{\"name\": \"Twentieth Century Fox Film Corporat...   \n",
       "4  11862  [{\"name\": \"Sandollar Productions\", \"id\": 5842}...   \n",
       "\n",
       "                                production_countries  \n",
       "0  [{\"iso_3166_1\": \"US\", \"name\": \"United States o...  \n",
       "1  [{\"iso_3166_1\": \"US\", \"name\": \"United States o...  \n",
       "2  [{\"iso_3166_1\": \"US\", \"name\": \"United States o...  \n",
       "3  [{\"iso_3166_1\": \"US\", \"name\": \"United States o...  \n",
       "4  [{\"iso_3166_1\": \"US\", \"name\": \"United States o...  "
      ]
     },
     "execution_count": 53,
     "metadata": {},
     "output_type": "execute_result"
    }
   ],
   "source": [
    "# Lee el archivo CSV y lo almacena en un DataFrame de Pandas\n",
    "df = pd.read_csv(\"../../production.csv\")\n",
    "df.head()"
   ]
  },
  {
   "cell_type": "code",
   "execution_count": 54,
   "metadata": {},
   "outputs": [
    {
     "name": "stdout",
     "output_type": "stream",
     "text": [
      "id                       int64\n",
      "production_companies    object\n",
      "production_countries    object\n",
      "dtype: object\n"
     ]
    }
   ],
   "source": [
    "# Verificar el tipo de datos de cada columna\n",
    "tipos_de_datos = df.dtypes\n",
    "\n",
    "# Mostrar los tipos de datos de cada columna\n",
    "print(tipos_de_datos)"
   ]
  },
  {
   "cell_type": "code",
   "execution_count": 55,
   "metadata": {},
   "outputs": [
    {
     "name": "stdout",
     "output_type": "stream",
     "text": [
      "Todos los valores de la columna 'id' son int64\n"
     ]
    }
   ],
   "source": [
    "# Verificar el tipo de datos de la columna \"id\"\n",
    "is_int64 = df['id'].dtype == np.int64\n",
    "\n",
    "if is_int64:\n",
    "    print(\"Todos los valores de la columna 'id' son int64\")\n",
    "else:\n",
    "    print(\"Algunos valores de la columna 'id' no son int64\")"
   ]
  },
  {
   "cell_type": "code",
   "execution_count": 56,
   "metadata": {},
   "outputs": [
    {
     "name": "stdout",
     "output_type": "stream",
     "text": [
      "Algunos valores de la columna 'id' no son int64\n"
     ]
    }
   ],
   "source": [
    "is_int64 = df['id'].apply(lambda x: isinstance(x, np.int64)).all()\n",
    "\n",
    "if is_int64:\n",
    "    print(\"Todos los valores de la columna 'id' son int64\")\n",
    "else:\n",
    "    print(\"Algunos valores de la columna 'id' no son int64\")"
   ]
  },
  {
   "cell_type": "code",
   "execution_count": 57,
   "metadata": {},
   "outputs": [
    {
     "name": "stdout",
     "output_type": "stream",
     "text": [
      "Algunas filas fueron eliminadas y los valores restantes en la columna 'id' son int64\n"
     ]
    }
   ],
   "source": [
    "# Convertir la columna 'id' a tipo numérico int64 y eliminar filas no convertibles\n",
    "df['id'] = pd.to_numeric(df['id'], errors='coerce', downcast='integer')\n",
    "df = df.dropna(subset=['id'])\n",
    "\n",
    "# Verificar si todas las filas de la columna 'id' son de tipo int64\n",
    "if df['id'].dtype == np.int64:\n",
    "    print(\"Todos los valores de la columna 'id' son int64\")\n",
    "else:\n",
    "    print(\"Algunas filas fueron eliminadas y los valores restantes en la columna 'id' son int64\")"
   ]
  },
  {
   "cell_type": "code",
   "execution_count": 58,
   "metadata": {},
   "outputs": [],
   "source": [
    "# Guardar df en nueva variable\n",
    "new_df = df[['id', 'production_companies']].copy()"
   ]
  },
  {
   "cell_type": "code",
   "execution_count": 59,
   "metadata": {},
   "outputs": [
    {
     "data": {
      "text/html": [
       "<div>\n",
       "<style scoped>\n",
       "    .dataframe tbody tr th:only-of-type {\n",
       "        vertical-align: middle;\n",
       "    }\n",
       "\n",
       "    .dataframe tbody tr th {\n",
       "        vertical-align: top;\n",
       "    }\n",
       "\n",
       "    .dataframe thead th {\n",
       "        text-align: right;\n",
       "    }\n",
       "</style>\n",
       "<table border=\"1\" class=\"dataframe\">\n",
       "  <thead>\n",
       "    <tr style=\"text-align: right;\">\n",
       "      <th></th>\n",
       "      <th>id</th>\n",
       "      <th>production_companies</th>\n",
       "    </tr>\n",
       "  </thead>\n",
       "  <tbody>\n",
       "    <tr>\n",
       "      <th>0</th>\n",
       "      <td>862</td>\n",
       "      <td>[{\"name\": \"Pixar Animation Studios\", \"id\": 3}]</td>\n",
       "    </tr>\n",
       "    <tr>\n",
       "      <th>1</th>\n",
       "      <td>8844</td>\n",
       "      <td>[{\"name\": \"TriStar Pictures\", \"id\": 559}, {\"na...</td>\n",
       "    </tr>\n",
       "    <tr>\n",
       "      <th>2</th>\n",
       "      <td>15602</td>\n",
       "      <td>[{\"name\": \"Warner Bros.\", \"id\": 6194}, {\"name\"...</td>\n",
       "    </tr>\n",
       "    <tr>\n",
       "      <th>3</th>\n",
       "      <td>31357</td>\n",
       "      <td>[{\"name\": \"Twentieth Century Fox Film Corporat...</td>\n",
       "    </tr>\n",
       "    <tr>\n",
       "      <th>4</th>\n",
       "      <td>11862</td>\n",
       "      <td>[{\"name\": \"Sandollar Productions\", \"id\": 5842}...</td>\n",
       "    </tr>\n",
       "  </tbody>\n",
       "</table>\n",
       "</div>"
      ],
      "text/plain": [
       "      id                               production_companies\n",
       "0    862     [{\"name\": \"Pixar Animation Studios\", \"id\": 3}]\n",
       "1   8844  [{\"name\": \"TriStar Pictures\", \"id\": 559}, {\"na...\n",
       "2  15602  [{\"name\": \"Warner Bros.\", \"id\": 6194}, {\"name\"...\n",
       "3  31357  [{\"name\": \"Twentieth Century Fox Film Corporat...\n",
       "4  11862  [{\"name\": \"Sandollar Productions\", \"id\": 5842}..."
      ]
     },
     "execution_count": 59,
     "metadata": {},
     "output_type": "execute_result"
    }
   ],
   "source": [
    "# Mostrar las primeras filas del DataFrame\n",
    "new_df.head()"
   ]
  },
  {
   "cell_type": "code",
   "execution_count": 60,
   "metadata": {},
   "outputs": [],
   "source": [
    "# Función para convertir cadenas en listas de diccionarios\n",
    "def parse_companies(x):\n",
    "    \"\"\"\n",
    "    Convierte una cadena en una lista de diccionarios utilizando ast.literal_eval().\n",
    "\n",
    "    Args:\n",
    "        x (str): Cadena a convertir.\n",
    "\n",
    "    Returns:\n",
    "        list: Lista de diccionarios resultante.\n",
    "\n",
    "    \"\"\"\n",
    "    try:\n",
    "        return ast.literal_eval(x)\n",
    "    except (SyntaxError, ValueError):\n",
    "        return []\n",
    "\n",
    "# Convertir las cadenas de texto en la columna \"production_companies\" en listas de diccionarios\n",
    "df['production_companies'] = df['production_companies'].apply(parse_companies)\n",
    "\n",
    "# Crear columnas 'id', 'pc_id' y 'pc_name' en new_df\n",
    "new_df['id'] = df['id']\n",
    "new_df['pc_id'] = df['production_companies'].apply(lambda x: ', '.join(str(pc['id']) for pc in x))\n",
    "new_df['pc_name'] = df['production_companies'].apply(lambda x: ', '.join(pc['name'] for pc in x))"
   ]
  },
  {
   "cell_type": "code",
   "execution_count": 61,
   "metadata": {},
   "outputs": [
    {
     "data": {
      "text/html": [
       "<div>\n",
       "<style scoped>\n",
       "    .dataframe tbody tr th:only-of-type {\n",
       "        vertical-align: middle;\n",
       "    }\n",
       "\n",
       "    .dataframe tbody tr th {\n",
       "        vertical-align: top;\n",
       "    }\n",
       "\n",
       "    .dataframe thead th {\n",
       "        text-align: right;\n",
       "    }\n",
       "</style>\n",
       "<table border=\"1\" class=\"dataframe\">\n",
       "  <thead>\n",
       "    <tr style=\"text-align: right;\">\n",
       "      <th></th>\n",
       "      <th>id</th>\n",
       "      <th>production_companies</th>\n",
       "      <th>pc_id</th>\n",
       "      <th>pc_name</th>\n",
       "    </tr>\n",
       "  </thead>\n",
       "  <tbody>\n",
       "    <tr>\n",
       "      <th>0</th>\n",
       "      <td>862</td>\n",
       "      <td>[{\"name\": \"Pixar Animation Studios\", \"id\": 3}]</td>\n",
       "      <td>3</td>\n",
       "      <td>Pixar Animation Studios</td>\n",
       "    </tr>\n",
       "    <tr>\n",
       "      <th>1</th>\n",
       "      <td>8844</td>\n",
       "      <td>[{\"name\": \"TriStar Pictures\", \"id\": 559}, {\"na...</td>\n",
       "      <td>559, 2550, 10201</td>\n",
       "      <td>TriStar Pictures, Teitler Film, Interscope Com...</td>\n",
       "    </tr>\n",
       "    <tr>\n",
       "      <th>2</th>\n",
       "      <td>15602</td>\n",
       "      <td>[{\"name\": \"Warner Bros.\", \"id\": 6194}, {\"name\"...</td>\n",
       "      <td>6194, 19464</td>\n",
       "      <td>Warner Bros., Lancaster Gate</td>\n",
       "    </tr>\n",
       "    <tr>\n",
       "      <th>3</th>\n",
       "      <td>31357</td>\n",
       "      <td>[{\"name\": \"Twentieth Century Fox Film Corporat...</td>\n",
       "      <td>306</td>\n",
       "      <td>Twentieth Century Fox Film Corporation</td>\n",
       "    </tr>\n",
       "    <tr>\n",
       "      <th>4</th>\n",
       "      <td>11862</td>\n",
       "      <td>[{\"name\": \"Sandollar Productions\", \"id\": 5842}...</td>\n",
       "      <td>5842, 9195</td>\n",
       "      <td>Sandollar Productions, Touchstone Pictures</td>\n",
       "    </tr>\n",
       "  </tbody>\n",
       "</table>\n",
       "</div>"
      ],
      "text/plain": [
       "      id                               production_companies             pc_id  \\\n",
       "0    862     [{\"name\": \"Pixar Animation Studios\", \"id\": 3}]                 3   \n",
       "1   8844  [{\"name\": \"TriStar Pictures\", \"id\": 559}, {\"na...  559, 2550, 10201   \n",
       "2  15602  [{\"name\": \"Warner Bros.\", \"id\": 6194}, {\"name\"...       6194, 19464   \n",
       "3  31357  [{\"name\": \"Twentieth Century Fox Film Corporat...               306   \n",
       "4  11862  [{\"name\": \"Sandollar Productions\", \"id\": 5842}...        5842, 9195   \n",
       "\n",
       "                                             pc_name  \n",
       "0                            Pixar Animation Studios  \n",
       "1  TriStar Pictures, Teitler Film, Interscope Com...  \n",
       "2                       Warner Bros., Lancaster Gate  \n",
       "3             Twentieth Century Fox Film Corporation  \n",
       "4         Sandollar Productions, Touchstone Pictures  "
      ]
     },
     "execution_count": 61,
     "metadata": {},
     "output_type": "execute_result"
    }
   ],
   "source": [
    "# Mostrar las primeras filas del DataFrame\n",
    "new_df.head()"
   ]
  },
  {
   "cell_type": "code",
   "execution_count": 62,
   "metadata": {},
   "outputs": [],
   "source": [
    "# Eliminar columna production_companies\n",
    "new_df = new_df.drop('production_companies', axis=1)"
   ]
  },
  {
   "cell_type": "code",
   "execution_count": 63,
   "metadata": {},
   "outputs": [
    {
     "data": {
      "text/html": [
       "<div>\n",
       "<style scoped>\n",
       "    .dataframe tbody tr th:only-of-type {\n",
       "        vertical-align: middle;\n",
       "    }\n",
       "\n",
       "    .dataframe tbody tr th {\n",
       "        vertical-align: top;\n",
       "    }\n",
       "\n",
       "    .dataframe thead th {\n",
       "        text-align: right;\n",
       "    }\n",
       "</style>\n",
       "<table border=\"1\" class=\"dataframe\">\n",
       "  <thead>\n",
       "    <tr style=\"text-align: right;\">\n",
       "      <th></th>\n",
       "      <th>id</th>\n",
       "      <th>pc_id</th>\n",
       "      <th>pc_name</th>\n",
       "    </tr>\n",
       "  </thead>\n",
       "  <tbody>\n",
       "    <tr>\n",
       "      <th>0</th>\n",
       "      <td>862</td>\n",
       "      <td>3</td>\n",
       "      <td>Pixar Animation Studios</td>\n",
       "    </tr>\n",
       "    <tr>\n",
       "      <th>1</th>\n",
       "      <td>8844</td>\n",
       "      <td>559, 2550, 10201</td>\n",
       "      <td>TriStar Pictures, Teitler Film, Interscope Com...</td>\n",
       "    </tr>\n",
       "    <tr>\n",
       "      <th>2</th>\n",
       "      <td>15602</td>\n",
       "      <td>6194, 19464</td>\n",
       "      <td>Warner Bros., Lancaster Gate</td>\n",
       "    </tr>\n",
       "    <tr>\n",
       "      <th>3</th>\n",
       "      <td>31357</td>\n",
       "      <td>306</td>\n",
       "      <td>Twentieth Century Fox Film Corporation</td>\n",
       "    </tr>\n",
       "    <tr>\n",
       "      <th>4</th>\n",
       "      <td>11862</td>\n",
       "      <td>5842, 9195</td>\n",
       "      <td>Sandollar Productions, Touchstone Pictures</td>\n",
       "    </tr>\n",
       "  </tbody>\n",
       "</table>\n",
       "</div>"
      ],
      "text/plain": [
       "      id             pc_id                                            pc_name\n",
       "0    862                 3                            Pixar Animation Studios\n",
       "1   8844  559, 2550, 10201  TriStar Pictures, Teitler Film, Interscope Com...\n",
       "2  15602       6194, 19464                       Warner Bros., Lancaster Gate\n",
       "3  31357               306             Twentieth Century Fox Film Corporation\n",
       "4  11862        5842, 9195         Sandollar Productions, Touchstone Pictures"
      ]
     },
     "execution_count": 63,
     "metadata": {},
     "output_type": "execute_result"
    }
   ],
   "source": [
    "# Mostrar las primeras filas del DataFrame\n",
    "new_df.head()"
   ]
  },
  {
   "cell_type": "code",
   "execution_count": 64,
   "metadata": {},
   "outputs": [
    {
     "data": {
      "text/plain": [
       "(45433, 3)"
      ]
     },
     "execution_count": 64,
     "metadata": {},
     "output_type": "execute_result"
    }
   ],
   "source": [
    "# Mostrar dimenciones del df\n",
    "new_df.shape"
   ]
  },
  {
   "cell_type": "code",
   "execution_count": 66,
   "metadata": {},
   "outputs": [],
   "source": [
    "# # Guardar el DataFrame en un nuevo archivo CSV llamado \"production_companies.csv\"\n",
    "# new_df.to_csv('production_companies_result.csv', index=False)"
   ]
  }
 ],
 "metadata": {
  "kernelspec": {
   "display_name": "Python 3",
   "language": "python",
   "name": "python3"
  },
  "language_info": {
   "codemirror_mode": {
    "name": "ipython",
    "version": 3
   },
   "file_extension": ".py",
   "mimetype": "text/x-python",
   "name": "python",
   "nbconvert_exporter": "python",
   "pygments_lexer": "ipython3",
   "version": "3.11.2"
  },
  "orig_nbformat": 4
 },
 "nbformat": 4,
 "nbformat_minor": 2
}
