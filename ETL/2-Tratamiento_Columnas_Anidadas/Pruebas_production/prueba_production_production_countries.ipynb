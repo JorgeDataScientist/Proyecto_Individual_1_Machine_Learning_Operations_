{
 "cells": [
  {
   "attachments": {},
   "cell_type": "markdown",
   "metadata": {},
   "source": [
    "### Desanidar columna \"production_countries\""
   ]
  },
  {
   "cell_type": "code",
   "execution_count": 31,
   "metadata": {},
   "outputs": [],
   "source": [
    "# Importar librerías\n",
    "import pandas as pd\n",
    "import ast\n",
    "import numpy as np"
   ]
  },
  {
   "cell_type": "code",
   "execution_count": 32,
   "metadata": {},
   "outputs": [
    {
     "data": {
      "text/html": [
       "<div>\n",
       "<style scoped>\n",
       "    .dataframe tbody tr th:only-of-type {\n",
       "        vertical-align: middle;\n",
       "    }\n",
       "\n",
       "    .dataframe tbody tr th {\n",
       "        vertical-align: top;\n",
       "    }\n",
       "\n",
       "    .dataframe thead th {\n",
       "        text-align: right;\n",
       "    }\n",
       "</style>\n",
       "<table border=\"1\" class=\"dataframe\">\n",
       "  <thead>\n",
       "    <tr style=\"text-align: right;\">\n",
       "      <th></th>\n",
       "      <th>id</th>\n",
       "      <th>production_companies</th>\n",
       "      <th>production_countries</th>\n",
       "    </tr>\n",
       "  </thead>\n",
       "  <tbody>\n",
       "    <tr>\n",
       "      <th>0</th>\n",
       "      <td>862</td>\n",
       "      <td>[{\"name\": \"Pixar Animation Studios\", \"id\": 3}]</td>\n",
       "      <td>[{\"iso_3166_1\": \"US\", \"name\": \"United States o...</td>\n",
       "    </tr>\n",
       "    <tr>\n",
       "      <th>1</th>\n",
       "      <td>8844</td>\n",
       "      <td>[{\"name\": \"TriStar Pictures\", \"id\": 559}, {\"na...</td>\n",
       "      <td>[{\"iso_3166_1\": \"US\", \"name\": \"United States o...</td>\n",
       "    </tr>\n",
       "    <tr>\n",
       "      <th>2</th>\n",
       "      <td>15602</td>\n",
       "      <td>[{\"name\": \"Warner Bros.\", \"id\": 6194}, {\"name\"...</td>\n",
       "      <td>[{\"iso_3166_1\": \"US\", \"name\": \"United States o...</td>\n",
       "    </tr>\n",
       "    <tr>\n",
       "      <th>3</th>\n",
       "      <td>31357</td>\n",
       "      <td>[{\"name\": \"Twentieth Century Fox Film Corporat...</td>\n",
       "      <td>[{\"iso_3166_1\": \"US\", \"name\": \"United States o...</td>\n",
       "    </tr>\n",
       "    <tr>\n",
       "      <th>4</th>\n",
       "      <td>11862</td>\n",
       "      <td>[{\"name\": \"Sandollar Productions\", \"id\": 5842}...</td>\n",
       "      <td>[{\"iso_3166_1\": \"US\", \"name\": \"United States o...</td>\n",
       "    </tr>\n",
       "  </tbody>\n",
       "</table>\n",
       "</div>"
      ],
      "text/plain": [
       "      id                               production_companies  \\\n",
       "0    862     [{\"name\": \"Pixar Animation Studios\", \"id\": 3}]   \n",
       "1   8844  [{\"name\": \"TriStar Pictures\", \"id\": 559}, {\"na...   \n",
       "2  15602  [{\"name\": \"Warner Bros.\", \"id\": 6194}, {\"name\"...   \n",
       "3  31357  [{\"name\": \"Twentieth Century Fox Film Corporat...   \n",
       "4  11862  [{\"name\": \"Sandollar Productions\", \"id\": 5842}...   \n",
       "\n",
       "                                production_countries  \n",
       "0  [{\"iso_3166_1\": \"US\", \"name\": \"United States o...  \n",
       "1  [{\"iso_3166_1\": \"US\", \"name\": \"United States o...  \n",
       "2  [{\"iso_3166_1\": \"US\", \"name\": \"United States o...  \n",
       "3  [{\"iso_3166_1\": \"US\", \"name\": \"United States o...  \n",
       "4  [{\"iso_3166_1\": \"US\", \"name\": \"United States o...  "
      ]
     },
     "execution_count": 32,
     "metadata": {},
     "output_type": "execute_result"
    }
   ],
   "source": [
    "# Lee el archivo CSV y lo almacena en un DataFrame de Pandas\n",
    "df = pd.read_csv(\"../../production.csv\")\n",
    "df.head()"
   ]
  },
  {
   "cell_type": "code",
   "execution_count": 33,
   "metadata": {},
   "outputs": [
    {
     "name": "stdout",
     "output_type": "stream",
     "text": [
      "id                       int64\n",
      "production_companies    object\n",
      "production_countries    object\n",
      "dtype: object\n"
     ]
    }
   ],
   "source": [
    "# Verificar el tipo de datos de cada columna\n",
    "tipos_de_datos = df.dtypes\n",
    "\n",
    "# Mostrar los tipos de datos de cada columna\n",
    "print(tipos_de_datos)"
   ]
  },
  {
   "cell_type": "code",
   "execution_count": 34,
   "metadata": {},
   "outputs": [
    {
     "name": "stdout",
     "output_type": "stream",
     "text": [
      "Todos los valores de la columna 'id' son int64\n"
     ]
    }
   ],
   "source": [
    "# Verificar el tipo de datos de la columna \"id\"\n",
    "is_int64 = df['id'].dtype == np.int64\n",
    "\n",
    "if is_int64:\n",
    "    print(\"Todos los valores de la columna 'id' son int64\")\n",
    "else:\n",
    "    print(\"Algunos valores de la columna 'id' no son int64\")"
   ]
  },
  {
   "cell_type": "code",
   "execution_count": 35,
   "metadata": {},
   "outputs": [
    {
     "name": "stdout",
     "output_type": "stream",
     "text": [
      "Algunos valores de la columna 'id' no son int64\n"
     ]
    }
   ],
   "source": [
    "# Verificar si todos los valores de la columna 'id' son int64\n",
    "is_int64 = df['id'].apply(lambda x: isinstance(x, np.int64)).all()\n",
    "\n",
    "if is_int64:\n",
    "    print(\"Todos los valores de la columna 'id' son int64\")\n",
    "else:\n",
    "    print(\"Algunos valores de la columna 'id' no son int64\")"
   ]
  },
  {
   "cell_type": "code",
   "execution_count": 36,
   "metadata": {},
   "outputs": [
    {
     "name": "stdout",
     "output_type": "stream",
     "text": [
      "Algunas filas fueron eliminadas y los valores restantes en la columna 'id' son int64\n"
     ]
    }
   ],
   "source": [
    "# Convertir la columna 'id' a tipo numérico int64 y eliminar filas no convertibles\n",
    "df['id'] = pd.to_numeric(df['id'], errors='coerce', downcast='integer')\n",
    "df = df.dropna(subset=['id'])\n",
    "\n",
    "# Verificar si todas las filas de la columna 'id' son de tipo int64\n",
    "if df['id'].dtype == np.int64:\n",
    "    print(\"Todos los valores de la columna 'id' son int64\")\n",
    "else:\n",
    "    print(\"Algunas filas fueron eliminadas y los valores restantes en la columna 'id' son int64\")"
   ]
  },
  {
   "cell_type": "code",
   "execution_count": 37,
   "metadata": {},
   "outputs": [],
   "source": [
    "#  Guardar df en nueva variable\n",
    "new_df = df[['id', 'production_countries']].copy()"
   ]
  },
  {
   "cell_type": "code",
   "execution_count": 38,
   "metadata": {},
   "outputs": [
    {
     "data": {
      "text/html": [
       "<div>\n",
       "<style scoped>\n",
       "    .dataframe tbody tr th:only-of-type {\n",
       "        vertical-align: middle;\n",
       "    }\n",
       "\n",
       "    .dataframe tbody tr th {\n",
       "        vertical-align: top;\n",
       "    }\n",
       "\n",
       "    .dataframe thead th {\n",
       "        text-align: right;\n",
       "    }\n",
       "</style>\n",
       "<table border=\"1\" class=\"dataframe\">\n",
       "  <thead>\n",
       "    <tr style=\"text-align: right;\">\n",
       "      <th></th>\n",
       "      <th>id</th>\n",
       "      <th>production_countries</th>\n",
       "    </tr>\n",
       "  </thead>\n",
       "  <tbody>\n",
       "    <tr>\n",
       "      <th>0</th>\n",
       "      <td>862</td>\n",
       "      <td>[{\"iso_3166_1\": \"US\", \"name\": \"United States o...</td>\n",
       "    </tr>\n",
       "    <tr>\n",
       "      <th>1</th>\n",
       "      <td>8844</td>\n",
       "      <td>[{\"iso_3166_1\": \"US\", \"name\": \"United States o...</td>\n",
       "    </tr>\n",
       "    <tr>\n",
       "      <th>2</th>\n",
       "      <td>15602</td>\n",
       "      <td>[{\"iso_3166_1\": \"US\", \"name\": \"United States o...</td>\n",
       "    </tr>\n",
       "    <tr>\n",
       "      <th>3</th>\n",
       "      <td>31357</td>\n",
       "      <td>[{\"iso_3166_1\": \"US\", \"name\": \"United States o...</td>\n",
       "    </tr>\n",
       "    <tr>\n",
       "      <th>4</th>\n",
       "      <td>11862</td>\n",
       "      <td>[{\"iso_3166_1\": \"US\", \"name\": \"United States o...</td>\n",
       "    </tr>\n",
       "  </tbody>\n",
       "</table>\n",
       "</div>"
      ],
      "text/plain": [
       "      id                               production_countries\n",
       "0    862  [{\"iso_3166_1\": \"US\", \"name\": \"United States o...\n",
       "1   8844  [{\"iso_3166_1\": \"US\", \"name\": \"United States o...\n",
       "2  15602  [{\"iso_3166_1\": \"US\", \"name\": \"United States o...\n",
       "3  31357  [{\"iso_3166_1\": \"US\", \"name\": \"United States o...\n",
       "4  11862  [{\"iso_3166_1\": \"US\", \"name\": \"United States o..."
      ]
     },
     "execution_count": 38,
     "metadata": {},
     "output_type": "execute_result"
    }
   ],
   "source": [
    "# Mostrar las primeras filas del DataFrame\n",
    "new_df.head()"
   ]
  },
  {
   "cell_type": "code",
   "execution_count": 40,
   "metadata": {},
   "outputs": [],
   "source": [
    "import ast\n",
    "\n",
    "# Función para convertir cadenas en listas de diccionarios\n",
    "def parse_countries(x):\n",
    "    \"\"\"\n",
    "    Convierte una cadena en una lista de diccionarios.\n",
    "\n",
    "    Args:\n",
    "        x (str): Cadena a convertir.\n",
    "\n",
    "    Returns:\n",
    "        list: Lista de diccionarios resultante.\n",
    "\n",
    "    \"\"\"\n",
    "    try:\n",
    "        return ast.literal_eval(x)\n",
    "    except (SyntaxError, ValueError):\n",
    "        return []\n",
    "\n",
    "# Convertir las cadenas de texto en la columna \"production_countries\" en listas de diccionarios\n",
    "df['production_countries'] = df['production_countries'].apply(parse_countries)\n",
    "\n",
    "# Crear columnas 'pc_iso', 'pc_name' en new_df\n",
    "new_df['id'] = df['id']\n",
    "new_df['pc_iso'] = df['production_countries'].apply(lambda x: ', '.join(pc['iso_3166_1'] for pc in x))\n",
    "new_df['pc_name'] = df['production_countries'].apply(lambda x: ', '.join(pc['name'] for pc in x))\n",
    "\n"
   ]
  },
  {
   "cell_type": "code",
   "execution_count": 41,
   "metadata": {},
   "outputs": [
    {
     "data": {
      "text/html": [
       "<div>\n",
       "<style scoped>\n",
       "    .dataframe tbody tr th:only-of-type {\n",
       "        vertical-align: middle;\n",
       "    }\n",
       "\n",
       "    .dataframe tbody tr th {\n",
       "        vertical-align: top;\n",
       "    }\n",
       "\n",
       "    .dataframe thead th {\n",
       "        text-align: right;\n",
       "    }\n",
       "</style>\n",
       "<table border=\"1\" class=\"dataframe\">\n",
       "  <thead>\n",
       "    <tr style=\"text-align: right;\">\n",
       "      <th></th>\n",
       "      <th>id</th>\n",
       "      <th>production_countries</th>\n",
       "      <th>pc_iso</th>\n",
       "      <th>pc_name</th>\n",
       "    </tr>\n",
       "  </thead>\n",
       "  <tbody>\n",
       "    <tr>\n",
       "      <th>0</th>\n",
       "      <td>862</td>\n",
       "      <td>[{\"iso_3166_1\": \"US\", \"name\": \"United States o...</td>\n",
       "      <td>US</td>\n",
       "      <td>United States of America</td>\n",
       "    </tr>\n",
       "    <tr>\n",
       "      <th>1</th>\n",
       "      <td>8844</td>\n",
       "      <td>[{\"iso_3166_1\": \"US\", \"name\": \"United States o...</td>\n",
       "      <td>US</td>\n",
       "      <td>United States of America</td>\n",
       "    </tr>\n",
       "    <tr>\n",
       "      <th>2</th>\n",
       "      <td>15602</td>\n",
       "      <td>[{\"iso_3166_1\": \"US\", \"name\": \"United States o...</td>\n",
       "      <td>US</td>\n",
       "      <td>United States of America</td>\n",
       "    </tr>\n",
       "    <tr>\n",
       "      <th>3</th>\n",
       "      <td>31357</td>\n",
       "      <td>[{\"iso_3166_1\": \"US\", \"name\": \"United States o...</td>\n",
       "      <td>US</td>\n",
       "      <td>United States of America</td>\n",
       "    </tr>\n",
       "    <tr>\n",
       "      <th>4</th>\n",
       "      <td>11862</td>\n",
       "      <td>[{\"iso_3166_1\": \"US\", \"name\": \"United States o...</td>\n",
       "      <td>US</td>\n",
       "      <td>United States of America</td>\n",
       "    </tr>\n",
       "  </tbody>\n",
       "</table>\n",
       "</div>"
      ],
      "text/plain": [
       "      id                               production_countries pc_iso  \\\n",
       "0    862  [{\"iso_3166_1\": \"US\", \"name\": \"United States o...     US   \n",
       "1   8844  [{\"iso_3166_1\": \"US\", \"name\": \"United States o...     US   \n",
       "2  15602  [{\"iso_3166_1\": \"US\", \"name\": \"United States o...     US   \n",
       "3  31357  [{\"iso_3166_1\": \"US\", \"name\": \"United States o...     US   \n",
       "4  11862  [{\"iso_3166_1\": \"US\", \"name\": \"United States o...     US   \n",
       "\n",
       "                    pc_name  \n",
       "0  United States of America  \n",
       "1  United States of America  \n",
       "2  United States of America  \n",
       "3  United States of America  \n",
       "4  United States of America  "
      ]
     },
     "execution_count": 41,
     "metadata": {},
     "output_type": "execute_result"
    }
   ],
   "source": [
    "# Mostrar las primeras filas del DataFrame\n",
    "new_df.head()"
   ]
  },
  {
   "cell_type": "code",
   "execution_count": 42,
   "metadata": {},
   "outputs": [],
   "source": [
    "# Eliminar columna \"production_countries\"\n",
    "new_df = new_df.drop('production_countries', axis=1)"
   ]
  },
  {
   "cell_type": "code",
   "execution_count": 43,
   "metadata": {},
   "outputs": [
    {
     "data": {
      "text/html": [
       "<div>\n",
       "<style scoped>\n",
       "    .dataframe tbody tr th:only-of-type {\n",
       "        vertical-align: middle;\n",
       "    }\n",
       "\n",
       "    .dataframe tbody tr th {\n",
       "        vertical-align: top;\n",
       "    }\n",
       "\n",
       "    .dataframe thead th {\n",
       "        text-align: right;\n",
       "    }\n",
       "</style>\n",
       "<table border=\"1\" class=\"dataframe\">\n",
       "  <thead>\n",
       "    <tr style=\"text-align: right;\">\n",
       "      <th></th>\n",
       "      <th>id</th>\n",
       "      <th>pc_iso</th>\n",
       "      <th>pc_name</th>\n",
       "    </tr>\n",
       "  </thead>\n",
       "  <tbody>\n",
       "    <tr>\n",
       "      <th>0</th>\n",
       "      <td>862</td>\n",
       "      <td>US</td>\n",
       "      <td>United States of America</td>\n",
       "    </tr>\n",
       "    <tr>\n",
       "      <th>1</th>\n",
       "      <td>8844</td>\n",
       "      <td>US</td>\n",
       "      <td>United States of America</td>\n",
       "    </tr>\n",
       "    <tr>\n",
       "      <th>2</th>\n",
       "      <td>15602</td>\n",
       "      <td>US</td>\n",
       "      <td>United States of America</td>\n",
       "    </tr>\n",
       "    <tr>\n",
       "      <th>3</th>\n",
       "      <td>31357</td>\n",
       "      <td>US</td>\n",
       "      <td>United States of America</td>\n",
       "    </tr>\n",
       "    <tr>\n",
       "      <th>4</th>\n",
       "      <td>11862</td>\n",
       "      <td>US</td>\n",
       "      <td>United States of America</td>\n",
       "    </tr>\n",
       "  </tbody>\n",
       "</table>\n",
       "</div>"
      ],
      "text/plain": [
       "      id pc_iso                   pc_name\n",
       "0    862     US  United States of America\n",
       "1   8844     US  United States of America\n",
       "2  15602     US  United States of America\n",
       "3  31357     US  United States of America\n",
       "4  11862     US  United States of America"
      ]
     },
     "execution_count": 43,
     "metadata": {},
     "output_type": "execute_result"
    }
   ],
   "source": [
    "# Mostrar las primeras filas del DataFrame\n",
    "new_df.head()"
   ]
  },
  {
   "cell_type": "code",
   "execution_count": 44,
   "metadata": {},
   "outputs": [
    {
     "data": {
      "text/plain": [
       "(45433, 3)"
      ]
     },
     "execution_count": 44,
     "metadata": {},
     "output_type": "execute_result"
    }
   ],
   "source": [
    "# Dimenciones del df\n",
    "new_df.shape"
   ]
  },
  {
   "cell_type": "code",
   "execution_count": 45,
   "metadata": {},
   "outputs": [],
   "source": [
    "# # # Guardar el DataFrame en un nuevo archivo CSV llamado \"production_companies.csv\"\n",
    "# new_df.to_csv('production_countries_result.csv', index=False)"
   ]
  }
 ],
 "metadata": {
  "kernelspec": {
   "display_name": "Python 3",
   "language": "python",
   "name": "python3"
  },
  "language_info": {
   "codemirror_mode": {
    "name": "ipython",
    "version": 3
   },
   "file_extension": ".py",
   "mimetype": "text/x-python",
   "name": "python",
   "nbconvert_exporter": "python",
   "pygments_lexer": "ipython3",
   "version": "3.11.2"
  },
  "orig_nbformat": 4
 },
 "nbformat": 4,
 "nbformat_minor": 2
}
